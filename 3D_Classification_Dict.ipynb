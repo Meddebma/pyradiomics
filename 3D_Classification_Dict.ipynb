{
  "nbformat": 4,
  "nbformat_minor": 0,
  "metadata": {
    "colab": {
      "name": "3D_Classification_Dict.ipynb",
      "provenance": [],
      "collapsed_sections": [],
      "machine_shape": "hm",
      "mount_file_id": "1Ahc6QaOCoako8m39k6yJEwF0n_OpNIkw",
      "authorship_tag": "ABX9TyNIb5igDCMLPFM/irDTQakL",
      "include_colab_link": true
    },
    "kernelspec": {
      "name": "python3",
      "display_name": "Python 3"
    },
    "language_info": {
      "name": "python"
    },
    "accelerator": "GPU"
  },
  "cells": [
    {
      "cell_type": "markdown",
      "metadata": {
        "id": "view-in-github",
        "colab_type": "text"
      },
      "source": [
        "<a href=\"https://colab.research.google.com/github/Meddebma/pyradiomics/blob/master/3D_Classification_Dict.ipynb\" target=\"_parent\"><img src=\"https://colab.research.google.com/assets/colab-badge.svg\" alt=\"Open In Colab\"/></a>"
      ]
    },
    {
      "cell_type": "code",
      "metadata": {
        "id": "wiFnM05m6uL2",
        "colab": {
          "base_uri": "https://localhost:8080/"
        },
        "outputId": "4bea0f86-93bd-4444-8a49-9932fa5fed8c"
      },
      "source": [
        "%pip install -q \"monai-weekly[itk, pillow]\""
      ],
      "execution_count": 1,
      "outputs": [
        {
          "output_type": "stream",
          "text": [
            "\u001b[K     |████████████████████████████████| 542kB 7.6MB/s \n",
            "\u001b[K     |████████████████████████████████| 36.3MB 130kB/s \n",
            "\u001b[K     |████████████████████████████████| 14.4MB 29.9MB/s \n",
            "\u001b[K     |████████████████████████████████| 14.0MB 21.8MB/s \n",
            "\u001b[K     |████████████████████████████████| 50.1MB 76kB/s \n",
            "\u001b[K     |████████████████████████████████| 10.3MB 94kB/s \n",
            "\u001b[K     |████████████████████████████████| 68.0MB 75kB/s \n",
            "\u001b[?25h"
          ],
          "name": "stdout"
        }
      ]
    },
    {
      "cell_type": "code",
      "metadata": {
        "colab": {
          "base_uri": "https://localhost:8080/"
        },
        "id": "8JIt-TFM-3ZL",
        "outputId": "5348cc30-d408-4d69-cdb7-97d754223ad1"
      },
      "source": [
        "# Copyright 2020 MONAI Consortium\n",
        "# Licensed under the Apache License, Version 2.0 (the \"License\");\n",
        "# you may not use this file except in compliance with the License.\n",
        "# You may obtain a copy of the License at\n",
        "#     http://www.apache.org/licenses/LICENSE-2.0\n",
        "# Unless required by applicable law or agreed to in writing, software\n",
        "# distributed under the License is distributed on an \"AS IS\" BASIS,\n",
        "# WITHOUT WARRANTIES OR CONDITIONS OF ANY KIND, either express or implied.\n",
        "# See the License for the specific language governing permissions and\n",
        "# limitations under the License.\n",
        "\n",
        "import logging\n",
        "import os\n",
        "import sys\n",
        "import tempfile\n",
        "import shutil\n",
        "\n",
        "import numpy as np\n",
        "import matplotlib.pyplot as plt\n",
        "import torch\n",
        "from torch.utils.data import DataLoader\n",
        "from torch.utils.tensorboard import SummaryWriter\n",
        "import pandas as pd\n",
        "import seaborn as sns \n",
        "from glob import glob\n",
        "\n",
        "import monai\n",
        "from monai.metrics import compute_roc_auc\n",
        "from monai.networks.nets import DenseNet121, Classifier\n",
        "from monai.apps import download_and_extract\n",
        "from monai.config import print_config\n",
        "from monai.utils import first\n",
        "from monai.visualize import GradCAM\n",
        "from monai.metrics import ConfusionMatrixMetric, get_confusion_matrix\n",
        "from monai.data import CacheDataset, DataLoader, ImageDataset, ITKReader, PILReader, Dataset, partition_dataset_classes\n",
        "from sklearn.metrics import (\n",
        "    classification_report, confusion_matrix,\n",
        "    ConfusionMatrixDisplay, \n",
        ")\n",
        "from monai.transforms import ScaleIntensity, AddChannel, Resize, ToTensor, Activations, Activationsd, AsDiscreted, AddChanneld, Invertd, AsDiscrete, Compose, LoadImaged, RandRotate90d, Resized, ScaleIntensityd, ToTensord\n",
        "\n",
        "logging.basicConfig(stream=sys.stdout, level=logging.INFO)\n",
        "print_config()"
      ],
      "execution_count": 2,
      "outputs": [
        {
          "output_type": "stream",
          "text": [
            "MONAI version: 0.6.dev2125\n",
            "Numpy version: 1.19.5\n",
            "Pytorch version: 1.9.0+cu102\n",
            "MONAI flags: HAS_EXT = False, USE_COMPILED = False\n",
            "MONAI rev id: aa46aae6aa47dabefd13f8bed7d2bf35137eb5d2\n",
            "\n",
            "Optional dependencies:\n",
            "Pytorch Ignite version: NOT INSTALLED or UNKNOWN VERSION.\n",
            "Nibabel version: 3.0.2\n",
            "scikit-image version: 0.16.2\n",
            "Pillow version: 7.1.2\n",
            "Tensorboard version: 2.5.0\n",
            "gdown version: 3.6.4\n",
            "TorchVision version: 0.10.0+cu102\n",
            "ITK version: 5.1.2\n",
            "tqdm version: 4.41.1\n",
            "lmdb version: 0.99\n",
            "psutil version: 5.4.8\n",
            "\n",
            "For details about installing the optional dependencies, please visit:\n",
            "    https://docs.monai.io/en/latest/installation.html#installing-the-recommended-dependencies\n",
            "\n"
          ],
          "name": "stdout"
        }
      ]
    },
    {
      "cell_type": "markdown",
      "metadata": {
        "id": "BvUL9l6t_tDM"
      },
      "source": [
        "**Data Direction**"
      ]
    },
    {
      "cell_type": "code",
      "metadata": {
        "id": "mHeS8Rt6_zWD"
      },
      "source": [
        "data_dir= \"/content/drive/My Drive/Spleen_AI\""
      ],
      "execution_count": 3,
      "outputs": []
    },
    {
      "cell_type": "code",
      "metadata": {
        "id": "O1S2v-B-AITM",
        "colab": {
          "base_uri": "https://localhost:8080/"
        },
        "outputId": "c6b3a752-f4f5-4448-c707-fcde5effa55e"
      },
      "source": [
        "labels_all = pd.read_excel (r'/content/drive/MyDrive/Spleen_AI/labels.xlsx')\n",
        "l=labels_all[\"label\"].to_numpy()\n",
        "print(l)\n",
        "#print(labels_all[\"label\"])"
      ],
      "execution_count": 4,
      "outputs": [
        {
          "output_type": "stream",
          "text": [
            "[1 1 0 0 0 0 0 0 0 0 0 0 1 0 0 0 0 0 0 0 0 0 0 0 1 0 0 0 1 0 0 0 1 0 1 0 1\n",
            " 0 0 0 0 0 0 1 0 0 1 0 1 0 0 0 0 1 1 1 0 0 0 1 1 1 0 0 0 0 0 0 1 1 0 1 0 1\n",
            " 1 1 1 1 1 1 1 0 1 1 1 1 1 1 1 1 0 1 1 0 0 1 1 1 1 1 1 0 0 0 1 0 1 1 0 1 1\n",
            " 1 0 0 1 1 1 1 1 1 1 1 1 1]\n"
          ],
          "name": "stdout"
        }
      ]
    },
    {
      "cell_type": "code",
      "metadata": {
        "id": "GyjyR96rS0Bl",
        "colab": {
          "base_uri": "https://localhost:8080/"
        },
        "outputId": "76f21c98-9bf4-4eeb-9904-15335de7d718"
      },
      "source": [
        "images = sorted(glob(os.path.join(data_dir, \"Projekt2f\", \"*.nii.gz\")))\n",
        "\n",
        "#for i in images:\n",
        "#  print(os.path.basename(i))\n",
        "\n",
        "labels= l\n",
        "#labels= np.array([0,0,0,0,0,0,1,0,0,0,0,0,0,1,1,1,1,1,1,1,1,1,1], dtype=np.int64)\n",
        "print(len(labels))\n"
      ],
      "execution_count": 5,
      "outputs": [
        {
          "output_type": "stream",
          "text": [
            "124\n"
          ],
          "name": "stdout"
        }
      ]
    },
    {
      "cell_type": "markdown",
      "metadata": {
        "id": "AJJwFbO47yGV"
      },
      "source": [
        "**Loading Data**"
      ]
    },
    {
      "cell_type": "code",
      "metadata": {
        "colab": {
          "base_uri": "https://localhost:8080/"
        },
        "id": "6ensxgO2N37j",
        "outputId": "7fa0a03c-332c-4b3b-eb91-f9f7f691f464"
      },
      "source": [
        "train_files = [{\"img\": img, \"label\": label} for img, label in zip(images[:100], labels[:100])]\n",
        "val_files = [{\"img\": img, \"label\": label} for img, label in zip(images[-100:], labels[-100:])]\n",
        "\n",
        "    # Define transforms for image\n",
        "train_transforms = Compose(\n",
        "        [\n",
        "            LoadImaged(keys=[\"img\"]),\n",
        "            AddChanneld(keys=[\"img\"]),\n",
        "            ScaleIntensityd(keys=[\"img\"]),\n",
        "            Resized(keys=[\"img\"], spatial_size=(96, 96, 96)),\n",
        "            RandRotate90d(keys=[\"img\"], prob=0.8, spatial_axes=[0, 2]),\n",
        "            ToTensord(keys=[\"img\"]),\n",
        "        ]\n",
        "    )\n",
        "val_transforms = Compose(\n",
        "        [\n",
        "            LoadImaged(keys=[\"img\"]),\n",
        "            AddChanneld(keys=[\"img\"]),\n",
        "            ScaleIntensityd(keys=[\"img\"]),\n",
        "            Resized(keys=[\"img\"], spatial_size=(96, 96, 96)),\n",
        "            ToTensord(keys=[\"img\"]),\n",
        "        ]\n",
        "    )\n",
        "act = Activations(softmax=True)\n",
        "to_onehot = AsDiscrete(to_onehot=True, n_classes=2)\n",
        "\n",
        "\n",
        "# Define dataset, data loader\n",
        "check_ds = monai.data.Dataset(data=train_files, transform=train_transforms)\n",
        "check_loader = DataLoader(check_ds, batch_size=2, num_workers=4, pin_memory=torch.cuda.is_available())\n",
        "check_data = monai.utils.misc.first(check_loader)\n",
        "print(check_data[\"img\"].shape, check_data[\"label\"])\n",
        "\n",
        "# create a training data loader\n",
        "train_ds = monai.data.Dataset(data=train_files, transform=train_transforms)\n",
        "train_loader = DataLoader(train_ds, batch_size=2, shuffle=True, num_workers=4, pin_memory=torch.cuda.is_available())\n",
        "\n",
        "# create a validation data loader\n",
        "val_ds = monai.data.Dataset(data=val_files, transform=val_transforms)\n",
        "val_loader = DataLoader(val_ds, batch_size=2, num_workers=4, pin_memory=torch.cuda.is_available())\n",
        "\n",
        "post_transforms = Compose([\n",
        "        #Activationsd(keys=\"y_pred\", sigmoid=True),\n",
        "        #AsDiscreted(keys=\"y_pred\", threshold_values=True),\n",
        "        Invertd(\n",
        "            keys=[\"img\"],  # invert the `pred` data field, also support multiple fields\n",
        "            transform=val_transforms,\n",
        "            loader=val_loader,\n",
        "            orig_keys=\"img\",  # get the previously applied pre_transforms information on the `img` data field,\n",
        "                              # then invert `pred` based on this information. we can use same info\n",
        "                              # for multiple fields, also support different orig_keys for different fields\n",
        "            #meta_keys=\"pred_meta_dict\",  # key field to save inverted meta data, every item maps to `keys`\n",
        "            #orig_meta_keys=\"img_meta_dict\",  # get the meta data from `img_meta_dict` field when inverting,\n",
        "                                             # for example, may need the `affine` to invert `Spacingd` transform,\n",
        "                                             # multiple fields can use the same meta data to invert\n",
        "            #meta_key_postfix=\"meta_dict\",  # if `meta_keys=None`, use \"{keys}_{meta_key_postfix}\" as the meta key,\n",
        "                                           # if `orig_meta_keys=None`, use \"{orig_keys}_{meta_key_postfix}\",\n",
        "                                           # otherwise, no need this arg during inverting\n",
        "            nearest_interp=True,  # change to use \"nearest\" mode in interpolation when inverting\n",
        "            to_tensor=True,  # convert to PyTorch Tensor after inverting\n",
        "        ),\n",
        "    ])"
      ],
      "execution_count": 7,
      "outputs": [
        {
          "output_type": "stream",
          "text": [
            "torch.Size([2, 1, 96, 96, 96]) tensor([1, 1])\n"
          ],
          "name": "stdout"
        }
      ]
    },
    {
      "cell_type": "markdown",
      "metadata": {
        "id": "RtjR-k758HU7"
      },
      "source": [
        "**Training**"
      ]
    },
    {
      "cell_type": "code",
      "metadata": {
        "id": "jDn21bVzOn2w"
      },
      "source": [
        "# Create DenseNet121, CrossEntropyLoss and Adam optimizer\n",
        "device = torch.device(\"cuda\")\n",
        "model = monai.networks.nets.DenseNet121(spatial_dims=3, in_channels=1, out_channels=2).to(device)\n",
        "loss_function = torch.nn.CrossEntropyLoss()\n",
        "optimizer = torch.optim.Adam(model.parameters(), 1e-5)"
      ],
      "execution_count": 8,
      "outputs": []
    },
    {
      "cell_type": "code",
      "metadata": {
        "colab": {
          "base_uri": "https://localhost:8080/"
        },
        "id": "Cf2I6mUmOo-5",
        "outputId": "1762a1f7-c7a4-4144-faf1-7a33388ba083"
      },
      "source": [
        "# start a typical PyTorch training\n",
        "val_interval = 2\n",
        "best_metric = -1\n",
        "best_metric_epoch = -1\n",
        "writer = SummaryWriter()\n",
        "for epoch in range(5):\n",
        "        print(\"-\" * 10)\n",
        "        print(f\"epoch {epoch + 1}/{5}\")\n",
        "        model.train()\n",
        "        epoch_loss = 0\n",
        "        step = 0\n",
        "        for batch_data in train_loader:\n",
        "            step += 1\n",
        "            inputs, labels = batch_data[\"img\"].to(device), batch_data[\"label\"].to(device)\n",
        "            optimizer.zero_grad()\n",
        "            outputs = model(inputs)\n",
        "            loss = loss_function(outputs, labels)\n",
        "            loss.backward()\n",
        "            optimizer.step()\n",
        "            epoch_loss += loss.item()\n",
        "            epoch_len = len(train_ds) // train_loader.batch_size\n",
        "            print(f\"{step}/{epoch_len}, train_loss: {loss.item():.4f}\")\n",
        "            writer.add_scalar(\"train_loss\", loss.item(), epoch_len * epoch + step)\n",
        "        epoch_loss /= step\n",
        "        print(f\"epoch {epoch + 1} average loss: {epoch_loss:.4f}\")\n",
        "\n",
        "        if (epoch + 1) % val_interval == 0:\n",
        "            model.eval()\n",
        "            with torch.no_grad():\n",
        "                y_pred = torch.tensor([], dtype=torch.float32, device=device)\n",
        "                y = torch.tensor([], dtype=torch.long, device=device)\n",
        "                for val_data in val_loader:\n",
        "                    val_images, val_labels = val_data[\"img\"].to(device), val_data[\"label\"].to(device)\n",
        "                    y_pred = torch.cat([y_pred, model(val_images)], dim=0)\n",
        "                    y = torch.cat([y, val_labels], dim=0)\n",
        "\n",
        "                acc_value = torch.eq(y_pred.argmax(dim=1), y)\n",
        "                acc_metric = acc_value.sum().item() / len(acc_value)\n",
        "                y_onehot = to_onehot(y)\n",
        "                y_pred_act = act(y_pred)\n",
        "                auc_metric = compute_roc_auc(y_pred_act, y_onehot)\n",
        "                del y_pred_act, y_onehot\n",
        "                if acc_metric > best_metric:\n",
        "                    best_metric = acc_metric\n",
        "                    best_metric_epoch = epoch + 1\n",
        "                    torch.save(model.state_dict(), \"best_metric_model_classification3d_dict.pth\")\n",
        "                    print(\"saved new best metric model\")\n",
        "                print(\n",
        "                    \"current epoch: {} current accuracy: {:.4f} current AUC: {:.4f} best accuracy: {:.4f} at epoch {}\".format(\n",
        "                        epoch + 1, acc_metric, auc_metric, best_metric, best_metric_epoch\n",
        "                    )\n",
        "                )\n",
        "                writer.add_scalar(\"val_accuracy\", acc_metric, epoch + 1)\n",
        "print(f\"train completed, best_metric: {best_metric:.4f} at epoch: {best_metric_epoch}\")\n",
        "writer.close()\n",
        "\n"
      ],
      "execution_count": null,
      "outputs": [
        {
          "output_type": "stream",
          "text": [
            "----------\n",
            "epoch 1/5\n",
            "1/50, train_loss: 0.6393\n",
            "2/50, train_loss: 0.6776\n",
            "3/50, train_loss: 0.6279\n",
            "4/50, train_loss: 0.7164\n",
            "5/50, train_loss: 0.6433\n",
            "6/50, train_loss: 0.7373\n",
            "7/50, train_loss: 0.6969\n",
            "8/50, train_loss: 0.6914\n",
            "9/50, train_loss: 0.9545\n",
            "10/50, train_loss: 0.4852\n",
            "11/50, train_loss: 0.9488\n",
            "12/50, train_loss: 0.7156\n",
            "13/50, train_loss: 0.6865\n",
            "14/50, train_loss: 0.6919\n",
            "15/50, train_loss: 0.7127\n",
            "16/50, train_loss: 0.6993\n",
            "17/50, train_loss: 0.8415\n",
            "18/50, train_loss: 0.6985\n",
            "19/50, train_loss: 0.8215\n",
            "20/50, train_loss: 0.7010\n",
            "21/50, train_loss: 0.8323\n",
            "22/50, train_loss: 0.7132\n",
            "23/50, train_loss: 0.6036\n",
            "24/50, train_loss: 0.7356\n",
            "25/50, train_loss: 0.6866\n",
            "26/50, train_loss: 0.6987\n",
            "27/50, train_loss: 0.6274\n",
            "28/50, train_loss: 0.6684\n",
            "29/50, train_loss: 0.6713\n",
            "30/50, train_loss: 0.7131\n",
            "31/50, train_loss: 0.6996\n",
            "32/50, train_loss: 0.7128\n",
            "33/50, train_loss: 0.6027\n",
            "34/50, train_loss: 0.6835\n",
            "35/50, train_loss: 0.5464\n",
            "36/50, train_loss: 0.5643\n",
            "37/50, train_loss: 0.6934\n",
            "38/50, train_loss: 0.7235\n",
            "39/50, train_loss: 0.6581\n",
            "40/50, train_loss: 0.6352\n",
            "41/50, train_loss: 0.8149\n",
            "42/50, train_loss: 0.4730\n",
            "43/50, train_loss: 0.5902\n",
            "44/50, train_loss: 0.5385\n",
            "45/50, train_loss: 0.6996\n",
            "46/50, train_loss: 0.6744\n",
            "47/50, train_loss: 0.4454\n",
            "48/50, train_loss: 0.6756\n",
            "49/50, train_loss: 0.7065\n",
            "50/50, train_loss: 0.4452\n",
            "epoch 1 average loss: 0.6784\n",
            "----------\n",
            "epoch 2/5\n",
            "1/50, train_loss: 0.6530\n",
            "2/50, train_loss: 0.6772\n",
            "3/50, train_loss: 0.6694\n",
            "4/50, train_loss: 0.6747\n",
            "5/50, train_loss: 0.3830\n",
            "6/50, train_loss: 0.7596\n",
            "7/50, train_loss: 0.7462\n",
            "8/50, train_loss: 0.7093\n",
            "9/50, train_loss: 0.8036\n",
            "10/50, train_loss: 0.7529\n",
            "11/50, train_loss: 0.7477\n",
            "12/50, train_loss: 0.4764\n",
            "13/50, train_loss: 0.6958\n",
            "14/50, train_loss: 0.6823\n",
            "15/50, train_loss: 0.6745\n",
            "16/50, train_loss: 1.0124\n",
            "17/50, train_loss: 0.4677\n",
            "18/50, train_loss: 0.8257\n",
            "19/50, train_loss: 0.6875\n",
            "20/50, train_loss: 0.9465\n",
            "21/50, train_loss: 0.6318\n",
            "22/50, train_loss: 0.7730\n",
            "23/50, train_loss: 0.6374\n",
            "24/50, train_loss: 0.4895\n",
            "25/50, train_loss: 0.6526\n",
            "26/50, train_loss: 0.4894\n",
            "27/50, train_loss: 0.7632\n",
            "28/50, train_loss: 0.6173\n",
            "29/50, train_loss: 0.6294\n",
            "30/50, train_loss: 0.6542\n",
            "31/50, train_loss: 0.5604\n",
            "32/50, train_loss: 0.5317\n",
            "33/50, train_loss: 0.6208\n",
            "34/50, train_loss: 0.6277\n",
            "35/50, train_loss: 0.7904\n",
            "36/50, train_loss: 0.5716\n",
            "37/50, train_loss: 0.4756\n",
            "38/50, train_loss: 0.7844\n",
            "39/50, train_loss: 0.7648\n",
            "40/50, train_loss: 0.6353\n",
            "41/50, train_loss: 0.4466\n",
            "42/50, train_loss: 0.7781\n",
            "43/50, train_loss: 0.5893\n",
            "44/50, train_loss: 0.5292\n",
            "45/50, train_loss: 0.4850\n",
            "46/50, train_loss: 0.5894\n",
            "47/50, train_loss: 0.7633\n",
            "48/50, train_loss: 0.5283\n",
            "49/50, train_loss: 0.9870\n",
            "50/50, train_loss: 0.4920\n",
            "epoch 2 average loss: 0.6587\n",
            "saved new best metric model\n",
            "current epoch: 2 current accuracy: 0.7100 current AUC: 0.7377 best accuracy: 0.7100 at epoch 2\n",
            "----------\n",
            "epoch 3/5\n",
            "1/50, train_loss: 0.3581\n",
            "2/50, train_loss: 0.6537\n",
            "3/50, train_loss: 0.6943\n",
            "4/50, train_loss: 0.4280\n",
            "5/50, train_loss: 0.4615\n",
            "6/50, train_loss: 0.3856\n",
            "7/50, train_loss: 0.3864\n",
            "8/50, train_loss: 0.4039\n",
            "9/50, train_loss: 0.7047\n",
            "10/50, train_loss: 0.5539\n",
            "11/50, train_loss: 0.8067\n",
            "12/50, train_loss: 0.7868\n",
            "13/50, train_loss: 0.4790\n",
            "14/50, train_loss: 0.4826\n",
            "15/50, train_loss: 0.2845\n",
            "16/50, train_loss: 0.7848\n",
            "17/50, train_loss: 1.0907\n",
            "18/50, train_loss: 0.4039\n",
            "19/50, train_loss: 0.6547\n",
            "20/50, train_loss: 0.5622\n",
            "21/50, train_loss: 0.3461\n",
            "22/50, train_loss: 0.6862\n",
            "23/50, train_loss: 0.6391\n",
            "24/50, train_loss: 0.6231\n",
            "25/50, train_loss: 0.6187\n",
            "26/50, train_loss: 0.9117\n",
            "27/50, train_loss: 0.6337\n",
            "28/50, train_loss: 0.3223\n",
            "29/50, train_loss: 1.0753\n",
            "30/50, train_loss: 0.6950\n",
            "31/50, train_loss: 0.6615\n",
            "32/50, train_loss: 0.3304\n",
            "33/50, train_loss: 0.5036\n",
            "34/50, train_loss: 1.0156\n",
            "35/50, train_loss: 0.7934\n",
            "36/50, train_loss: 0.5372\n",
            "37/50, train_loss: 0.6048\n",
            "38/50, train_loss: 0.8062\n",
            "39/50, train_loss: 0.5362\n",
            "40/50, train_loss: 0.6180\n",
            "41/50, train_loss: 0.7997\n",
            "42/50, train_loss: 0.6105\n",
            "43/50, train_loss: 0.6243\n",
            "44/50, train_loss: 0.4952\n",
            "45/50, train_loss: 0.8134\n",
            "46/50, train_loss: 0.7939\n",
            "47/50, train_loss: 0.6686\n",
            "48/50, train_loss: 0.7880\n",
            "49/50, train_loss: 0.6906\n",
            "50/50, train_loss: 0.4943\n",
            "epoch 3 average loss: 0.6221\n",
            "----------\n",
            "epoch 4/5\n",
            "1/50, train_loss: 0.4991\n",
            "2/50, train_loss: 0.6700\n",
            "3/50, train_loss: 0.6041\n",
            "4/50, train_loss: 0.4295\n",
            "5/50, train_loss: 0.4320\n",
            "6/50, train_loss: 0.6063\n",
            "7/50, train_loss: 0.7866\n",
            "8/50, train_loss: 0.8100\n",
            "9/50, train_loss: 0.7998\n",
            "10/50, train_loss: 0.4450\n",
            "11/50, train_loss: 0.5984\n",
            "12/50, train_loss: 0.9344\n",
            "13/50, train_loss: 0.8494\n",
            "14/50, train_loss: 0.5899\n",
            "15/50, train_loss: 0.6238\n",
            "16/50, train_loss: 0.4425\n",
            "17/50, train_loss: 0.7577\n",
            "18/50, train_loss: 0.5885\n",
            "19/50, train_loss: 0.5898\n",
            "20/50, train_loss: 0.6946\n",
            "21/50, train_loss: 0.7872\n",
            "22/50, train_loss: 0.5963\n",
            "23/50, train_loss: 0.8251\n",
            "24/50, train_loss: 0.5721\n",
            "25/50, train_loss: 0.6135\n",
            "26/50, train_loss: 0.6013\n",
            "27/50, train_loss: 0.5833\n",
            "28/50, train_loss: 0.4506\n",
            "29/50, train_loss: 0.8016\n",
            "30/50, train_loss: 0.6676\n",
            "31/50, train_loss: 0.8731\n",
            "32/50, train_loss: 0.5960\n",
            "33/50, train_loss: 0.6757\n",
            "34/50, train_loss: 0.8218\n",
            "35/50, train_loss: 0.5861\n",
            "36/50, train_loss: 0.6066\n",
            "37/50, train_loss: 0.5763\n",
            "38/50, train_loss: 0.5392\n",
            "39/50, train_loss: 0.8523\n",
            "40/50, train_loss: 0.5131\n",
            "41/50, train_loss: 0.8737\n",
            "42/50, train_loss: 0.5782\n",
            "43/50, train_loss: 0.8203\n",
            "44/50, train_loss: 0.5607\n",
            "45/50, train_loss: 0.6595\n",
            "46/50, train_loss: 0.6130\n",
            "47/50, train_loss: 0.5422\n",
            "48/50, train_loss: 0.8221\n",
            "49/50, train_loss: 0.5872\n",
            "50/50, train_loss: 0.3891\n",
            "epoch 4 average loss: 0.6467\n",
            "saved new best metric model\n",
            "current epoch: 4 current accuracy: 0.7200 current AUC: 0.8348 best accuracy: 0.7200 at epoch 4\n",
            "----------\n",
            "epoch 5/5\n",
            "1/50, train_loss: 0.5494\n",
            "2/50, train_loss: 0.3712\n",
            "3/50, train_loss: 0.4020\n",
            "4/50, train_loss: 0.6017\n",
            "5/50, train_loss: 0.5895\n",
            "6/50, train_loss: 0.4297\n",
            "7/50, train_loss: 0.6052\n",
            "8/50, train_loss: 0.5237\n",
            "9/50, train_loss: 0.6574\n",
            "10/50, train_loss: 0.8190\n",
            "11/50, train_loss: 0.7110\n",
            "12/50, train_loss: 0.3965\n",
            "13/50, train_loss: 0.8046\n",
            "14/50, train_loss: 0.3433\n",
            "15/50, train_loss: 0.5816\n",
            "16/50, train_loss: 0.5324\n",
            "17/50, train_loss: 0.6206\n",
            "18/50, train_loss: 0.3210\n",
            "19/50, train_loss: 0.6873\n",
            "20/50, train_loss: 0.3386\n",
            "21/50, train_loss: 0.5855\n",
            "22/50, train_loss: 0.4193\n",
            "23/50, train_loss: 0.7969\n",
            "24/50, train_loss: 0.8776\n",
            "25/50, train_loss: 0.3392\n",
            "26/50, train_loss: 0.5992\n",
            "27/50, train_loss: 0.3470\n",
            "28/50, train_loss: 0.5366\n",
            "29/50, train_loss: 0.3007\n",
            "30/50, train_loss: 0.7353\n",
            "31/50, train_loss: 0.3644\n",
            "32/50, train_loss: 0.6114\n",
            "33/50, train_loss: 0.5700\n",
            "34/50, train_loss: 0.3956\n",
            "35/50, train_loss: 0.8996\n",
            "36/50, train_loss: 0.6003\n",
            "37/50, train_loss: 0.5763\n",
            "38/50, train_loss: 0.8107\n",
            "39/50, train_loss: 0.9182\n",
            "40/50, train_loss: 0.5695\n",
            "41/50, train_loss: 0.5914\n",
            "42/50, train_loss: 0.4351\n",
            "43/50, train_loss: 0.4096\n",
            "44/50, train_loss: 0.3913\n",
            "45/50, train_loss: 0.6927\n",
            "46/50, train_loss: 0.3483\n",
            "47/50, train_loss: 0.7697\n",
            "48/50, train_loss: 0.6489\n",
            "49/50, train_loss: 0.4621\n",
            "50/50, train_loss: 0.8033\n",
            "epoch 5 average loss: 0.5658\n",
            "train completed, best_metric: 0.7200 at epoch: 4\n"
          ],
          "name": "stdout"
        }
      ]
    },
    {
      "cell_type": "markdown",
      "metadata": {
        "id": "ZIsk3v3gKTrB"
      },
      "source": [
        "**Evaluation Metrics**"
      ]
    },
    {
      "cell_type": "code",
      "metadata": {
        "colab": {
          "base_uri": "https://localhost:8080/",
          "height": 466
        },
        "id": "kezjNUoMVm_r",
        "outputId": "2ead30da-c1bf-4502-d414-8bbc4c9cd048"
      },
      "source": [
        "from enum import Enum\n",
        "from sklearn.metrics import (\n",
        "    classification_report, confusion_matrix,\n",
        "    ConfusionMatrixDisplay\n",
        ")\n",
        "class Diagnosis(Enum):\n",
        "    Liver_Cirrhosis = 0\n",
        "    Lymphoma = 1\n",
        "    \n",
        "\n",
        "%matplotlib inline\n",
        "# Load best model\n",
        "model.load_state_dict(torch.load(\"/content/drive/My Drive/Spleen_AI/best_metric_model_classification3d_array.pth\"))\n",
        "model.to(device)\n",
        "model.eval()\n",
        "\n",
        "with torch.no_grad():\n",
        "    y_pred = torch.tensor([], dtype=torch.float32, device=device)\n",
        "    y = torch.tensor([], dtype=torch.long, device=device)\n",
        "\n",
        "    for val_data in val_loader:\n",
        "              val_images, val_labels = val_data[\"img\"].to(device), val_data[\"label\"].to(device),\n",
        "              outputs = model(val_images)\n",
        "              y = torch.cat([y, val_labels], dim=0)\n",
        "              y_pred = torch.cat([y_pred, outputs.argmax(dim=1)], dim=0)\n",
        "        \n",
        "print(classification_report(\n",
        "    y.cpu().numpy(),\n",
        "    y_pred.cpu().numpy(),\n",
        "    target_names=[d.name for d in Diagnosis]))\n",
        "\n",
        "cm = confusion_matrix (\n",
        "    y.cpu().numpy(),\n",
        "    y_pred.cpu().numpy(),\n",
        "    normalize='true',\n",
        ")\n",
        "cmm = ConfusionMatrixMetric (include_background=True, metric_name=[\"sensitivity\",\"specificity\",\"negative predictive value\"])\n",
        "\n",
        "disp = ConfusionMatrixDisplay(\n",
        "    confusion_matrix=cm,\n",
        "    display_labels=[d.name for d in Diagnosis],\n",
        ")\n",
        "disp.plot(ax=plt.subplots(1, 1, facecolor='white')[1])"
      ],
      "execution_count": 9,
      "outputs": [
        {
          "output_type": "stream",
          "text": [
            "                 precision    recall  f1-score   support\n",
            "\n",
            "Liver_Cirrhosis       0.73      0.70      0.71        43\n",
            "       Lymphoma       0.78      0.81      0.79        57\n",
            "\n",
            "       accuracy                           0.76       100\n",
            "      macro avg       0.76      0.75      0.75       100\n",
            "   weighted avg       0.76      0.76      0.76       100\n",
            "\n"
          ],
          "name": "stdout"
        },
        {
          "output_type": "execute_result",
          "data": {
            "text/plain": [
              "<sklearn.metrics._plot.confusion_matrix.ConfusionMatrixDisplay at 0x7f987aaa7290>"
            ]
          },
          "metadata": {
            "tags": []
          },
          "execution_count": 9
        },
        {
          "output_type": "display_data",
          "data": {
            "image/png": "[encoded data removed]",
            "text/plain": [
              "<Figure size 432x288 with 2 Axes>"
            ]
          },
          "metadata": {
            "tags": []
          }
        }
      ]
    },
    {
      "cell_type": "code",
      "metadata": {
        "colab": {
          "base_uri": "https://localhost:8080/"
        },
        "id": "ECpd0z4-z0NH",
        "outputId": "ff0153e4-2d73-42b2-c9a6-3b63069cef88"
      },
      "source": [
        "win_size=(96, 96, 96)\n",
        "# cam = monai.visualize.CAM(nn_module=model_3d, target_layers=\"class_layers.relu\", fc_layers=\"class_layers.out\")\n",
        "cam = monai.visualize.GradCAM(\n",
        "    nn_module=model, target_layers=\"class_layers.relu\"\n",
        ")\n",
        "# cam = monai.visualize.GradCAMpp(nn_module=model_3d, target_layers=\"class_layers.relu\")\n",
        "print(\n",
        "    \"original feature shape\",\n",
        "    cam.feature_map_size([1, 1] + list(win_size), device),\n",
        ")\n",
        "print(\"upsampled feature shape\", [1, 1] + list(win_size))\n",
        "\n",
        "occ_sens = monai.visualize.OcclusionSensitivity(\n",
        "    nn_module=model, mask_size=12, n_batch=1, stride=28\n",
        ")\n",
        "\n",
        "# For occlusion sensitivity, inference must be run many times. Hence, we can use a\n",
        "# bounding box to limit it to a 2D plane of interest (z=the_slice) where each of\n",
        "# the arguments are the min and max for each of the dimensions (in this case CHWD).\n",
        "the_slice = train_ds[0][\"img\"].shape[-1] // 2\n",
        "occ_sens_b_box = [-1, -1, -1, -1, -1, -1, the_slice, the_slice]"
      ],
      "execution_count": 41,
      "outputs": [
        {
          "output_type": "stream",
          "text": [
            "original feature shape torch.Size([1, 1, 3, 3, 3])\n",
            "upsampled feature shape [1, 1, 96, 96, 96]\n"
          ],
          "name": "stdout"
        }
      ]
    },
    {
      "cell_type": "code",
      "metadata": {
        "id": "oRGURzL4ag6m"
      },
      "source": [
        "post_transforms = Compose([\n",
        "        #Activationsd(keys=\"y_pred\", sigmoid=True),\n",
        "        #AsDiscreted(keys=\"y_pred\", threshold_values=True),\n",
        "        Invertd(\n",
        "            keys=\"img\",  # invert the `pred` data field, also support multiple fields\n",
        "            transform=val_transforms,\n",
        "            loader=val_loader,\n",
        "            orig_keys=\"img\",  # get the previously applied pre_transforms information on the `img` data field,\n",
        "                              # then invert `pred` based on this information. we can use same info\n",
        "                              # for multiple fields, also support different orig_keys for different fields\n",
        "            #meta_keys=\"pred_meta_dict\",  # key field to save inverted meta data, every item maps to `keys`\n",
        "            #orig_meta_keys=\"img_meta_dict\",  # get the meta data from `img_meta_dict` field when inverting,\n",
        "                                             # for example, may need the `affine` to invert `Spacingd` transform,\n",
        "                                             # multiple fields can use the same meta data to invert\n",
        "            #meta_key_postfix=\"meta_dict\",  # if `meta_keys=None`, use \"{keys}_{meta_key_postfix}\" as the meta key,\n",
        "                                           # if `orig_meta_keys=None`, use \"{orig_keys}_{meta_key_postfix}\",\n",
        "                                           # otherwise, no need this arg during inverting\n",
        "            nearest_interp=True,  # change to use \"nearest\" mode in interpolation when inverting\n",
        "            to_tensor=True,  # convert to PyTorch Tensor after inverting\n",
        "        ),\n",
        "    ])\n",
        "\n",
        "val_ds = monai.data.Dataset(data=val_files, transform=val_transforms)\n",
        "val_loader = DataLoader(val_ds, batch_size=2, num_workers=4, pin_memory=torch.cuda.is_available())\n",
        "\n",
        "with torch.no_grad():\n",
        "  for d in val_loader:\n",
        "         post_transforms(d)\n",
        "         itera = iter(d)\n",
        "\n",
        "\n",
        "\n",
        "def get_next_im():\n",
        "    test_data = next(itera)\n",
        "    return test_data[0].to(device), test_data[1].unsqueeze(0).to(device)\n",
        "\n",
        "\n",
        "def plot_occlusion_heatmap(im, heatmap):\n",
        "    plt.subplots(1, 2)\n",
        "    plt.subplot(1, 2, 1)\n",
        "    plt.imshow(np.squeeze(im.cpu()))\n",
        "    plt.colorbar()\n",
        "    plt.subplot(1, 2, 2)\n",
        "    plt.imshow(heatmap)\n",
        "    plt.colorbar()\n",
        "    plt.show()"
      ],
      "execution_count": 10,
      "outputs": []
    },
    {
      "cell_type": "code",
      "metadata": {
        "colab": {
          "base_uri": "https://localhost:8080/",
          "height": 373
        },
        "id": "pvou44XqbCeZ",
        "outputId": "4587c543-6d46-4f87-f296-8b0d7cbfafc2"
      },
      "source": [
        "# Get a random image and its corresponding label\n",
        "img, label = get_next_im()\n",
        "\n",
        "# Get the occlusion sensitivity map\n",
        "occ_sens = monai.visualize.OcclusionSensitivity(\n",
        "    nn_module=model, mask_size=12, n_batch=10, stride=12)\n",
        "# Only get a single slice to save time.\n",
        "# For the other dimensions (channel, width, height), use\n",
        "# -1 to use 0 and img.shape[x]-1 for min and max, respectively\n",
        "depth_slice = img.shape[2] // 2\n",
        "occ_sens_b_box = [-1, -1, depth_slice, depth_slice, -1, -1, -1, -1]\n",
        "\n",
        "occ_result, _ = occ_sens(x=img, b_box=occ_sens_b_box)\n",
        "occ_result = occ_result[..., label.item()]\n",
        "\n",
        "fig, axes = plt.subplots(1, 2, figsize=(25, 15), facecolor='white')\n",
        "\n",
        "for i, im in enumerate([img[:, :, depth_slice, ...], occ_result]):\n",
        "    cmap = 'gray' if i == 0 else 'jet'\n",
        "    ax = axes[i]\n",
        "    im_show = ax.imshow(np.squeeze(im[0][0].detach().cpu()), cmap=cmap)\n",
        "    ax.axis('off')\n",
        "    fig.colorbar(im_show, ax=ax)"
      ],
      "execution_count": 12,
      "outputs": [
        {
          "output_type": "error",
          "ename": "AttributeError",
          "evalue": "ignored",
          "traceback": [
            "\u001b[0;31m---------------------------------------------------------------------------\u001b[0m",
            "\u001b[0;31mAttributeError\u001b[0m                            Traceback (most recent call last)",
            "\u001b[0;32m<ipython-input-12-97ffa63e55fd>\u001b[0m in \u001b[0;36m<module>\u001b[0;34m()\u001b[0m\n\u001b[1;32m      1\u001b[0m \u001b[0;31m# Get a random image and its corresponding label\u001b[0m\u001b[0;34m\u001b[0m\u001b[0;34m\u001b[0m\u001b[0;34m\u001b[0m\u001b[0m\n\u001b[0;32m----> 2\u001b[0;31m \u001b[0mimg\u001b[0m\u001b[0;34m,\u001b[0m \u001b[0mlabel\u001b[0m \u001b[0;34m=\u001b[0m \u001b[0mget_next_im\u001b[0m\u001b[0;34m(\u001b[0m\u001b[0;34m)\u001b[0m\u001b[0;34m\u001b[0m\u001b[0;34m\u001b[0m\u001b[0m\n\u001b[0m\u001b[1;32m      3\u001b[0m \u001b[0;34m\u001b[0m\u001b[0m\n\u001b[1;32m      4\u001b[0m \u001b[0;31m# Get the occlusion sensitivity map\u001b[0m\u001b[0;34m\u001b[0m\u001b[0;34m\u001b[0m\u001b[0;34m\u001b[0m\u001b[0m\n\u001b[1;32m      5\u001b[0m occ_sens = monai.visualize.OcclusionSensitivity(\n",
            "\u001b[0;32m<ipython-input-10-b8ca40108ce2>\u001b[0m in \u001b[0;36mget_next_im\u001b[0;34m()\u001b[0m\n\u001b[1;32m     33\u001b[0m \u001b[0;32mdef\u001b[0m \u001b[0mget_next_im\u001b[0m\u001b[0;34m(\u001b[0m\u001b[0;34m)\u001b[0m\u001b[0;34m:\u001b[0m\u001b[0;34m\u001b[0m\u001b[0;34m\u001b[0m\u001b[0m\n\u001b[1;32m     34\u001b[0m     \u001b[0mtest_data\u001b[0m \u001b[0;34m=\u001b[0m \u001b[0mnext\u001b[0m\u001b[0;34m(\u001b[0m\u001b[0mitera\u001b[0m\u001b[0;34m)\u001b[0m\u001b[0;34m\u001b[0m\u001b[0;34m\u001b[0m\u001b[0m\n\u001b[0;32m---> 35\u001b[0;31m     \u001b[0;32mreturn\u001b[0m \u001b[0mtest_data\u001b[0m\u001b[0;34m[\u001b[0m\u001b[0;36m0\u001b[0m\u001b[0;34m]\u001b[0m\u001b[0;34m.\u001b[0m\u001b[0mto\u001b[0m\u001b[0;34m(\u001b[0m\u001b[0mdevice\u001b[0m\u001b[0;34m)\u001b[0m\u001b[0;34m,\u001b[0m \u001b[0mtest_data\u001b[0m\u001b[0;34m[\u001b[0m\u001b[0;36m1\u001b[0m\u001b[0;34m]\u001b[0m\u001b[0;34m.\u001b[0m\u001b[0munsqueeze\u001b[0m\u001b[0;34m(\u001b[0m\u001b[0;36m0\u001b[0m\u001b[0;34m)\u001b[0m\u001b[0;34m.\u001b[0m\u001b[0mto\u001b[0m\u001b[0;34m(\u001b[0m\u001b[0mdevice\u001b[0m\u001b[0;34m)\u001b[0m\u001b[0;34m\u001b[0m\u001b[0;34m\u001b[0m\u001b[0m\n\u001b[0m\u001b[1;32m     36\u001b[0m \u001b[0;34m\u001b[0m\u001b[0m\n\u001b[1;32m     37\u001b[0m \u001b[0;34m\u001b[0m\u001b[0m\n",
            "\u001b[0;31mAttributeError\u001b[0m: 'str' object has no attribute 'to'"
          ]
        }
      ]
    }
  ]
}