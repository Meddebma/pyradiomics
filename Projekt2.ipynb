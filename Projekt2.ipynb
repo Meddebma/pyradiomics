{
  "nbformat": 4,
  "nbformat_minor": 0,
  "metadata": {
    "colab": {
      "name": "Projekt2.ipynb",
      "provenance": [],
      "collapsed_sections": [],
      "mount_file_id": "1FyB4QKDT1fg_VCsmIDxLu-oVMRgc8eJX",
      "authorship_tag": "ABX9TyN4cIRt5qzQHlQdGZfRcpDm",
      "include_colab_link": true
    },
    "kernelspec": {
      "name": "python3",
      "display_name": "Python 3"
    },
    "language_info": {
      "name": "python"
    },
    "accelerator": "GPU"
  },
  "cells": [
    {
      "cell_type": "markdown",
      "metadata": {
        "id": "view-in-github",
        "colab_type": "text"
      },
      "source": [
        "<a href=\"https://colab.research.google.com/github/Meddebma/pyradiomics/blob/master/Projekt2.ipynb\" target=\"_parent\"><img src=\"https://colab.research.google.com/assets/colab-badge.svg\" alt=\"Open In Colab\"/></a>"
      ]
    },
    {
      "cell_type": "markdown",
      "metadata": {
        "id": "udLmhGGd-b8L"
      },
      "source": [
        "**Setup environment**"
      ]
    },
    {
      "cell_type": "code",
      "metadata": {
        "id": "YPSd10aH-eKd",
        "colab": {
          "base_uri": "https://localhost:8080/"
        },
        "outputId": "8fd30a59-b077-4a85-db03-cb523b3cea2c"
      },
      "source": [
        "%pip install -q \"monai-weekly\""
      ],
      "execution_count": null,
      "outputs": [
        {
          "output_type": "stream",
          "text": [
            "\u001b[?25l\r\u001b[K     |▋                               | 10kB 22.4MB/s eta 0:00:01\r\u001b[K     |█▎                              | 20kB 6.9MB/s eta 0:00:01\r\u001b[K     |██                              | 30kB 4.4MB/s eta 0:00:01\r\u001b[K     |██▌                             | 40kB 4.1MB/s eta 0:00:01\r\u001b[K     |███▏                            | 51kB 2.2MB/s eta 0:00:01\r\u001b[K     |███▉                            | 61kB 2.4MB/s eta 0:00:01\r\u001b[K     |████▌                           | 71kB 2.6MB/s eta 0:00:01\r\u001b[K     |█████                           | 81kB 2.7MB/s eta 0:00:01\r\u001b[K     |█████▊                          | 92kB 2.9MB/s eta 0:00:01\r\u001b[K     |██████▍                         | 102kB 3.0MB/s eta 0:00:01\r\u001b[K     |███████                         | 112kB 3.0MB/s eta 0:00:01\r\u001b[K     |███████▋                        | 122kB 3.0MB/s eta 0:00:01\r\u001b[K     |████████▎                       | 133kB 3.0MB/s eta 0:00:01\r\u001b[K     |█████████                       | 143kB 3.0MB/s eta 0:00:01\r\u001b[K     |█████████▌                      | 153kB 3.0MB/s eta 0:00:01\r\u001b[K     |██████████▏                     | 163kB 3.0MB/s eta 0:00:01\r\u001b[K     |██████████▉                     | 174kB 3.0MB/s eta 0:00:01\r\u001b[K     |███████████▌                    | 184kB 3.0MB/s eta 0:00:01\r\u001b[K     |████████████                    | 194kB 3.0MB/s eta 0:00:01\r\u001b[K     |████████████▊                   | 204kB 3.0MB/s eta 0:00:01\r\u001b[K     |█████████████▍                  | 215kB 3.0MB/s eta 0:00:01\r\u001b[K     |██████████████                  | 225kB 3.0MB/s eta 0:00:01\r\u001b[K     |██████████████▋                 | 235kB 3.0MB/s eta 0:00:01\r\u001b[K     |███████████████▎                | 245kB 3.0MB/s eta 0:00:01\r\u001b[K     |████████████████                | 256kB 3.0MB/s eta 0:00:01\r\u001b[K     |████████████████▌               | 266kB 3.0MB/s eta 0:00:01\r\u001b[K     |█████████████████▏              | 276kB 3.0MB/s eta 0:00:01\r\u001b[K     |█████████████████▉              | 286kB 3.0MB/s eta 0:00:01\r\u001b[K     |██████████████████▌             | 296kB 3.0MB/s eta 0:00:01\r\u001b[K     |███████████████████             | 307kB 3.0MB/s eta 0:00:01\r\u001b[K     |███████████████████▊            | 317kB 3.0MB/s eta 0:00:01\r\u001b[K     |████████████████████▍           | 327kB 3.0MB/s eta 0:00:01\r\u001b[K     |█████████████████████           | 337kB 3.0MB/s eta 0:00:01\r\u001b[K     |█████████████████████▋          | 348kB 3.0MB/s eta 0:00:01\r\u001b[K     |██████████████████████▎         | 358kB 3.0MB/s eta 0:00:01\r\u001b[K     |███████████████████████         | 368kB 3.0MB/s eta 0:00:01\r\u001b[K     |███████████████████████▌        | 378kB 3.0MB/s eta 0:00:01\r\u001b[K     |████████████████████████▏       | 389kB 3.0MB/s eta 0:00:01\r\u001b[K     |████████████████████████▉       | 399kB 3.0MB/s eta 0:00:01\r\u001b[K     |█████████████████████████▌      | 409kB 3.0MB/s eta 0:00:01\r\u001b[K     |██████████████████████████      | 419kB 3.0MB/s eta 0:00:01\r\u001b[K     |██████████████████████████▊     | 430kB 3.0MB/s eta 0:00:01\r\u001b[K     |███████████████████████████▍    | 440kB 3.0MB/s eta 0:00:01\r\u001b[K     |████████████████████████████    | 450kB 3.0MB/s eta 0:00:01\r\u001b[K     |████████████████████████████▋   | 460kB 3.0MB/s eta 0:00:01\r\u001b[K     |█████████████████████████████▎  | 471kB 3.0MB/s eta 0:00:01\r\u001b[K     |██████████████████████████████  | 481kB 3.0MB/s eta 0:00:01\r\u001b[K     |██████████████████████████████▌ | 491kB 3.0MB/s eta 0:00:01\r\u001b[K     |███████████████████████████████▏| 501kB 3.0MB/s eta 0:00:01\r\u001b[K     |███████████████████████████████▉| 512kB 3.0MB/s eta 0:00:01\r\u001b[K     |████████████████████████████████| 522kB 3.0MB/s \n",
            "\u001b[?25h"
          ],
          "name": "stdout"
        }
      ]
    },
    {
      "cell_type": "markdown",
      "metadata": {
        "id": "HbOGv71w-zFk"
      },
      "source": [
        "**Setup imports**"
      ]
    },
    {
      "cell_type": "code",
      "metadata": {
        "colab": {
          "base_uri": "https://localhost:8080/"
        },
        "id": "8JIt-TFM-3ZL",
        "outputId": "44ca2d0f-cb58-4da4-be29-c9d6aed88850"
      },
      "source": [
        "# Copyright 2020 MONAI Consortium\n",
        "# Licensed under the Apache License, Version 2.0 (the \"License\");\n",
        "# you may not use this file except in compliance with the License.\n",
        "# You may obtain a copy of the License at\n",
        "#     http://www.apache.org/licenses/LICENSE-2.0\n",
        "# Unless required by applicable law or agreed to in writing, software\n",
        "# distributed under the License is distributed on an \"AS IS\" BASIS,\n",
        "# WITHOUT WARRANTIES OR CONDITIONS OF ANY KIND, either express or implied.\n",
        "# See the License for the specific language governing permissions and\n",
        "# limitations under the License.\n",
        "\n",
        "import logging\n",
        "import os\n",
        "import sys\n",
        "import tempfile\n",
        "import shutil\n",
        "\n",
        "import matplotlib.pyplot as plt\n",
        "import torch\n",
        "from torch.utils.tensorboard import SummaryWriter\n",
        "import numpy as np\n",
        "\n",
        "import monai\n",
        "from monai.networks.nets import DenseNet121, Classifier\n",
        "from monai.apps import download_and_extract\n",
        "from monai.config import print_config\n",
        "from monai.data import CacheDataset, DataLoader, ImageDataset\n",
        "from torch.utils.data import DataLoader\n",
        "from monai.transforms import (\n",
        "    AddChannel,\n",
        "    Compose,\n",
        "    RandRotate90,\n",
        "    Resize,\n",
        "    ScaleIntensity,\n",
        "    ToTensor,\n",
        "    Randomizable,\n",
        "    LoadImaged,\n",
        "    ToTensord,\n",
        ")\n",
        "import numpy as np\n",
        "import statsmodels.formula.api as smf\n",
        "import statsmodels.api as sm\n",
        "import pandas as pd\n",
        "import seaborn as sns \n",
        "from glob import glob\n",
        "\n",
        "logging.basicConfig(stream=sys.stdout, level=logging.INFO)\n",
        "print_config()"
      ],
      "execution_count": null,
      "outputs": [
        {
          "output_type": "stream",
          "text": [
            "/usr/local/lib/python3.7/dist-packages/statsmodels/tools/_testing.py:19: FutureWarning: pandas.util.testing is deprecated. Use the functions in the public API at pandas.testing instead.\n",
            "  import pandas.util.testing as tm\n"
          ],
          "name": "stderr"
        },
        {
          "output_type": "stream",
          "text": [
            "MONAI version: 0.6.dev2121\n",
            "Numpy version: 1.19.5\n",
            "Pytorch version: 1.8.1+cu101\n",
            "MONAI flags: HAS_EXT = False, USE_COMPILED = False\n",
            "MONAI rev id: ffba47d55439eb803b94d12ea75f460875c5af95\n",
            "\n",
            "Optional dependencies:\n",
            "Pytorch Ignite version: NOT INSTALLED or UNKNOWN VERSION.\n",
            "Nibabel version: 3.0.2\n",
            "scikit-image version: 0.16.2\n",
            "Pillow version: 7.1.2\n",
            "Tensorboard version: 2.5.0\n",
            "gdown version: 3.6.4\n",
            "TorchVision version: 0.9.1+cu101\n",
            "ITK version: NOT INSTALLED or UNKNOWN VERSION.\n",
            "tqdm version: 4.41.1\n",
            "lmdb version: 0.99\n",
            "psutil version: 5.4.8\n",
            "\n",
            "For details about installing the optional dependencies, please visit:\n",
            "    https://docs.monai.io/en/latest/installation.html#installing-the-recommended-dependencies\n",
            "\n"
          ],
          "name": "stdout"
        }
      ]
    },
    {
      "cell_type": "markdown",
      "metadata": {
        "id": "BvUL9l6t_tDM"
      },
      "source": [
        "**Data Direction**"
      ]
    },
    {
      "cell_type": "code",
      "metadata": {
        "id": "mHeS8Rt6_zWD"
      },
      "source": [
        "data_dir= \"/content/drive/My Drive/Task09_Spleen\""
      ],
      "execution_count": null,
      "outputs": []
    },
    {
      "cell_type": "code",
      "metadata": {
        "id": "O1S2v-B-AITM"
      },
      "source": [
        "labels_all = pd.read_excel (r'/content/drive/MyDrive/Task09_Spleen/labels.xlsx')\n"
      ],
      "execution_count": null,
      "outputs": []
    },
    {
      "cell_type": "code",
      "metadata": {
        "colab": {
          "base_uri": "https://localhost:8080/"
        },
        "id": "GyjyR96rS0Bl",
        "outputId": "1360c1be-4e9a-495b-aec9-4f146ed8d465"
      },
      "source": [
        "images = sorted(glob(os.path.join(data_dir, \"Projekt2t\", \"*.nii.gz\")))\n",
        "labels=  np.array([2, 2, 1, 1, 1, 1], dtype=np.int64)\n",
        "images\n",
        "\n"
      ],
      "execution_count": null,
      "outputs": [
        {
          "output_type": "execute_result",
          "data": {
            "text/plain": [
              "['/content/drive/My Drive/Task09_Spleen/Projekt2t/12555575.nii.gz',\n",
              " '/content/drive/My Drive/Task09_Spleen/Projekt2t/12633486.nii.gz',\n",
              " '/content/drive/My Drive/Task09_Spleen/Projekt2t/12656178.nii.gz',\n",
              " '/content/drive/My Drive/Task09_Spleen/Projekt2t/12692451.nii.gz',\n",
              " '/content/drive/My Drive/Task09_Spleen/Projekt2t/12697165.nii.gz',\n",
              " '/content/drive/My Drive/Task09_Spleen/Projekt2t/12706474.nii.gz']"
            ]
          },
          "metadata": {
            "tags": []
          },
          "execution_count": 5
        }
      ]
    },
    {
      "cell_type": "code",
      "metadata": {
        "colab": {
          "base_uri": "https://localhost:8080/"
        },
        "id": "xWuuYwtGuUiq",
        "outputId": "8f0efb0e-08d2-4919-bb85-d76f5282160e"
      },
      "source": [
        "labels"
      ],
      "execution_count": null,
      "outputs": [
        {
          "output_type": "execute_result",
          "data": {
            "text/plain": [
              "array([2, 2, 1, 1, 1, 1])"
            ]
          },
          "metadata": {
            "tags": []
          },
          "execution_count": 6
        }
      ]
    },
    {
      "cell_type": "code",
      "metadata": {
        "colab": {
          "base_uri": "https://localhost:8080/"
        },
        "id": "ul6o7jMXc-Wm",
        "outputId": "2e8ef580-1856-43ec-cd5c-e544ffb11861"
      },
      "source": [
        "  # Define transforms\n",
        "train_transforms = Compose([ScaleIntensity(), AddChannel(), Resize((96, 96, 96)), ToTensor()])\n",
        "val_transforms = Compose([ScaleIntensity(), AddChannel(), Resize((96, 96, 96)), ToTensor()])\n",
        "\n",
        "    # Define image dataset, data loader\n",
        "check_ds = ImageDataset(image_files=images, labels=labels, transform=train_transforms)\n",
        "check_loader = DataLoader(check_ds, batch_size=2, num_workers=2)\n",
        "im, label = monai.utils.misc.first(check_loader)\n",
        "print(type(im), im.shape, label)"
      ],
      "execution_count": null,
      "outputs": [
        {
          "output_type": "stream",
          "text": [
            "<class 'torch.Tensor'> torch.Size([2, 1, 96, 96, 96]) tensor([2, 2])\n"
          ],
          "name": "stdout"
        }
      ]
    },
    {
      "cell_type": "code",
      "metadata": {
        "id": "no-1iFtFgcOf"
      },
      "source": [
        "train_ds = ImageDataset(image_files=images[:2], labels=labels[:2], transform=train_transforms)\n",
        "train_loader = DataLoader(train_ds, batch_size=2, shuffle=True, num_workers=2)\n",
        "\n",
        "# create a validation data loader\n",
        "val_ds = ImageDataset(image_files=images[-2:], labels=labels[-2:], transform=val_transforms)\n",
        "val_loader = DataLoader(val_ds, batch_size=2, num_workers=2)\n",
        "\n",
        "# Create DenseNet121, CrossEntropyLoss and Adam optimizer\n",
        "device = torch.device(\"cuda\")\n",
        "model = monai.networks.nets.DenseNet121(spatial_dims=3, in_channels=1, out_channels=2).to(device)\n",
        "loss_function = torch.nn.CrossEntropyLoss()\n",
        "optimizer = torch.optim.Adam(model.parameters(), 1e-5)"
      ],
      "execution_count": null,
      "outputs": []
    },
    {
      "cell_type": "code",
      "metadata": {
        "colab": {
          "base_uri": "https://localhost:8080/",
          "height": 408
        },
        "id": "Fl3O9A11Zmpm",
        "outputId": "ee451b38-9a01-446e-be49-3373b048862c"
      },
      "source": [
        "# start a typical PyTorch training\n",
        "val_interval = 2\n",
        "best_metric = -1\n",
        "best_metric_epoch = -1\n",
        "epoch_loss_values = []\n",
        "metric_values = []\n",
        "writer = SummaryWriter()\n",
        "max_epochs = 5\n",
        "for epoch in range(max_epochs):\n",
        "    print(\"-\" * 10)\n",
        "    print(f\"epoch {epoch + 1}/{max_epochs}\")\n",
        "    model.train()\n",
        "    epoch_loss = 0\n",
        "    step = 0\n",
        "    for batch_data in train_loader:\n",
        "        step += 1\n",
        "        inputs, labels = batch_data[0].to(device), batch_data[1].to(device)\n",
        "        optimizer.zero_grad()\n",
        "        outputs = model(inputs)\n",
        "        loss = loss_function(outputs, labels)\n",
        "        loss.backward()\n",
        "        optimizer.step()\n",
        "        epoch_loss += loss.item()\n",
        "        epoch_len = len(train_ds) // train_loader.batch_size\n",
        "        print(f\"{step}/{epoch_len}, train_loss: {loss.item():.4f}\")\n",
        "        writer.add_scalar(\"train_loss\", loss.item(), epoch_len * epoch + step)\n",
        "    epoch_loss /= step\n",
        "    epoch_loss_values.append(epoch_loss)\n",
        "    print(f\"epoch {epoch + 1} average loss: {epoch_loss:.4f}\")\n",
        "\n",
        "    if (epoch + 1) % val_interval == 0:\n",
        "        model.eval()\n",
        "        with torch.no_grad():\n",
        "            num_correct = 0.0\n",
        "            metric_count = 0\n",
        "            for val_data in val_loader:\n",
        "                val_images, val_labels = val_data[0].to(\n",
        "                    device), val_data[1].to(device)\n",
        "                val_outputs = model(val_images)\n",
        "                value = torch.eq(val_outputs.argmax(dim=1), val_labels)\n",
        "                metric_count += len(value)\n",
        "                num_correct += value.sum().item()\n",
        "            metric = num_correct / metric_count\n",
        "            metric_values.append(metric)\n",
        "            if metric > best_metric:\n",
        "                best_metric = metric\n",
        "                best_metric_epoch = epoch + 1\n",
        "                torch.save(model.state_dict(),\n",
        "                           \"best_metric_model_classification3d_array.pth\")\n",
        "                print(\"saved new best metric model\")\n",
        "            print(\n",
        "                \"current epoch: {} current accuracy: {:.4f} \"\n",
        "                \"best accuracy: {:.4f} at epoch {}\".format(\n",
        "                    epoch + 1, metric, best_metric, best_metric_epoch\n",
        "                )\n",
        "            )\n",
        "            writer.add_scalar(\"val_accuracy\", metric, epoch + 1)\n",
        "print(\n",
        "    f\"train completed, best_metric: {best_metric:.4f} \"\n",
        "    f\"at epoch: {best_metric_epoch}\")\n",
        "writer.close()"
      ],
      "execution_count": null,
      "outputs": [
        {
          "output_type": "stream",
          "text": [
            "----------\n",
            "epoch 1/5\n"
          ],
          "name": "stdout"
        },
        {
          "output_type": "error",
          "ename": "RuntimeError",
          "evalue": "ignored",
          "traceback": [
            "\u001b[0;31m---------------------------------------------------------------------------\u001b[0m",
            "\u001b[0;31mRuntimeError\u001b[0m                              Traceback (most recent call last)",
            "\u001b[0;32m<ipython-input-11-5cc6e1054bee>\u001b[0m in \u001b[0;36m<module>\u001b[0;34m()\u001b[0m\n\u001b[1;32m     19\u001b[0m         \u001b[0moutputs\u001b[0m \u001b[0;34m=\u001b[0m \u001b[0mmodel\u001b[0m\u001b[0;34m(\u001b[0m\u001b[0minputs\u001b[0m\u001b[0;34m)\u001b[0m\u001b[0;34m\u001b[0m\u001b[0;34m\u001b[0m\u001b[0m\n\u001b[1;32m     20\u001b[0m         \u001b[0mloss\u001b[0m \u001b[0;34m=\u001b[0m \u001b[0mloss_function\u001b[0m\u001b[0;34m(\u001b[0m\u001b[0moutputs\u001b[0m\u001b[0;34m,\u001b[0m \u001b[0mlabels\u001b[0m\u001b[0;34m)\u001b[0m\u001b[0;34m\u001b[0m\u001b[0;34m\u001b[0m\u001b[0m\n\u001b[0;32m---> 21\u001b[0;31m         \u001b[0mloss\u001b[0m\u001b[0;34m.\u001b[0m\u001b[0mbackward\u001b[0m\u001b[0;34m(\u001b[0m\u001b[0;34m)\u001b[0m\u001b[0;34m\u001b[0m\u001b[0;34m\u001b[0m\u001b[0m\n\u001b[0m\u001b[1;32m     22\u001b[0m         \u001b[0moptimizer\u001b[0m\u001b[0;34m.\u001b[0m\u001b[0mstep\u001b[0m\u001b[0;34m(\u001b[0m\u001b[0;34m)\u001b[0m\u001b[0;34m\u001b[0m\u001b[0;34m\u001b[0m\u001b[0m\n\u001b[1;32m     23\u001b[0m         \u001b[0mepoch_loss\u001b[0m \u001b[0;34m+=\u001b[0m \u001b[0mloss\u001b[0m\u001b[0;34m.\u001b[0m\u001b[0mitem\u001b[0m\u001b[0;34m(\u001b[0m\u001b[0;34m)\u001b[0m\u001b[0;34m\u001b[0m\u001b[0;34m\u001b[0m\u001b[0m\n",
            "\u001b[0;32m/usr/local/lib/python3.7/dist-packages/torch/tensor.py\u001b[0m in \u001b[0;36mbackward\u001b[0;34m(self, gradient, retain_graph, create_graph, inputs)\u001b[0m\n\u001b[1;32m    243\u001b[0m                 \u001b[0mcreate_graph\u001b[0m\u001b[0;34m=\u001b[0m\u001b[0mcreate_graph\u001b[0m\u001b[0;34m,\u001b[0m\u001b[0;34m\u001b[0m\u001b[0;34m\u001b[0m\u001b[0m\n\u001b[1;32m    244\u001b[0m                 inputs=inputs)\n\u001b[0;32m--> 245\u001b[0;31m         \u001b[0mtorch\u001b[0m\u001b[0;34m.\u001b[0m\u001b[0mautograd\u001b[0m\u001b[0;34m.\u001b[0m\u001b[0mbackward\u001b[0m\u001b[0;34m(\u001b[0m\u001b[0mself\u001b[0m\u001b[0;34m,\u001b[0m \u001b[0mgradient\u001b[0m\u001b[0;34m,\u001b[0m \u001b[0mretain_graph\u001b[0m\u001b[0;34m,\u001b[0m \u001b[0mcreate_graph\u001b[0m\u001b[0;34m,\u001b[0m \u001b[0minputs\u001b[0m\u001b[0;34m=\u001b[0m\u001b[0minputs\u001b[0m\u001b[0;34m)\u001b[0m\u001b[0;34m\u001b[0m\u001b[0;34m\u001b[0m\u001b[0m\n\u001b[0m\u001b[1;32m    246\u001b[0m \u001b[0;34m\u001b[0m\u001b[0m\n\u001b[1;32m    247\u001b[0m     \u001b[0;32mdef\u001b[0m \u001b[0mregister_hook\u001b[0m\u001b[0;34m(\u001b[0m\u001b[0mself\u001b[0m\u001b[0;34m,\u001b[0m \u001b[0mhook\u001b[0m\u001b[0;34m)\u001b[0m\u001b[0;34m:\u001b[0m\u001b[0;34m\u001b[0m\u001b[0;34m\u001b[0m\u001b[0m\n",
            "\u001b[0;32m/usr/local/lib/python3.7/dist-packages/torch/autograd/__init__.py\u001b[0m in \u001b[0;36mbackward\u001b[0;34m(tensors, grad_tensors, retain_graph, create_graph, grad_variables, inputs)\u001b[0m\n\u001b[1;32m    139\u001b[0m \u001b[0;34m\u001b[0m\u001b[0m\n\u001b[1;32m    140\u001b[0m     \u001b[0mgrad_tensors_\u001b[0m \u001b[0;34m=\u001b[0m \u001b[0m_tensor_or_tensors_to_tuple\u001b[0m\u001b[0;34m(\u001b[0m\u001b[0mgrad_tensors\u001b[0m\u001b[0;34m,\u001b[0m \u001b[0mlen\u001b[0m\u001b[0;34m(\u001b[0m\u001b[0mtensors\u001b[0m\u001b[0;34m)\u001b[0m\u001b[0;34m)\u001b[0m\u001b[0;34m\u001b[0m\u001b[0;34m\u001b[0m\u001b[0m\n\u001b[0;32m--> 141\u001b[0;31m     \u001b[0mgrad_tensors_\u001b[0m \u001b[0;34m=\u001b[0m \u001b[0m_make_grads\u001b[0m\u001b[0;34m(\u001b[0m\u001b[0mtensors\u001b[0m\u001b[0;34m,\u001b[0m \u001b[0mgrad_tensors_\u001b[0m\u001b[0;34m)\u001b[0m\u001b[0;34m\u001b[0m\u001b[0;34m\u001b[0m\u001b[0m\n\u001b[0m\u001b[1;32m    142\u001b[0m     \u001b[0;32mif\u001b[0m \u001b[0mretain_graph\u001b[0m \u001b[0;32mis\u001b[0m \u001b[0;32mNone\u001b[0m\u001b[0;34m:\u001b[0m\u001b[0;34m\u001b[0m\u001b[0;34m\u001b[0m\u001b[0m\n\u001b[1;32m    143\u001b[0m         \u001b[0mretain_graph\u001b[0m \u001b[0;34m=\u001b[0m \u001b[0mcreate_graph\u001b[0m\u001b[0;34m\u001b[0m\u001b[0;34m\u001b[0m\u001b[0m\n",
            "\u001b[0;32m/usr/local/lib/python3.7/dist-packages/torch/autograd/__init__.py\u001b[0m in \u001b[0;36m_make_grads\u001b[0;34m(outputs, grads)\u001b[0m\n\u001b[1;32m     49\u001b[0m                 \u001b[0;32mif\u001b[0m \u001b[0mout\u001b[0m\u001b[0;34m.\u001b[0m\u001b[0mnumel\u001b[0m\u001b[0;34m(\u001b[0m\u001b[0;34m)\u001b[0m \u001b[0;34m!=\u001b[0m \u001b[0;36m1\u001b[0m\u001b[0;34m:\u001b[0m\u001b[0;34m\u001b[0m\u001b[0;34m\u001b[0m\u001b[0m\n\u001b[1;32m     50\u001b[0m                     \u001b[0;32mraise\u001b[0m \u001b[0mRuntimeError\u001b[0m\u001b[0;34m(\u001b[0m\u001b[0;34m\"grad can be implicitly created only for scalar outputs\"\u001b[0m\u001b[0;34m)\u001b[0m\u001b[0;34m\u001b[0m\u001b[0;34m\u001b[0m\u001b[0m\n\u001b[0;32m---> 51\u001b[0;31m                 \u001b[0mnew_grads\u001b[0m\u001b[0;34m.\u001b[0m\u001b[0mappend\u001b[0m\u001b[0;34m(\u001b[0m\u001b[0mtorch\u001b[0m\u001b[0;34m.\u001b[0m\u001b[0mones_like\u001b[0m\u001b[0;34m(\u001b[0m\u001b[0mout\u001b[0m\u001b[0;34m,\u001b[0m \u001b[0mmemory_format\u001b[0m\u001b[0;34m=\u001b[0m\u001b[0mtorch\u001b[0m\u001b[0;34m.\u001b[0m\u001b[0mpreserve_format\u001b[0m\u001b[0;34m)\u001b[0m\u001b[0;34m)\u001b[0m\u001b[0;34m\u001b[0m\u001b[0;34m\u001b[0m\u001b[0m\n\u001b[0m\u001b[1;32m     52\u001b[0m             \u001b[0;32melse\u001b[0m\u001b[0;34m:\u001b[0m\u001b[0;34m\u001b[0m\u001b[0;34m\u001b[0m\u001b[0m\n\u001b[1;32m     53\u001b[0m                 \u001b[0mnew_grads\u001b[0m\u001b[0;34m.\u001b[0m\u001b[0mappend\u001b[0m\u001b[0;34m(\u001b[0m\u001b[0;32mNone\u001b[0m\u001b[0;34m)\u001b[0m\u001b[0;34m\u001b[0m\u001b[0;34m\u001b[0m\u001b[0m\n",
            "\u001b[0;31mRuntimeError\u001b[0m: CUDA error: device-side assert triggered"
          ]
        }
      ]
    }
  ]
}