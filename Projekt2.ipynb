{
  "nbformat": 4,
  "nbformat_minor": 0,
  "metadata": {
    "colab": {
      "name": "Projekt2.ipynb",
      "provenance": [],
      "collapsed_sections": [],
      "machine_shape": "hm",
      "mount_file_id": "1FyB4QKDT1fg_VCsmIDxLu-oVMRgc8eJX",
      "authorship_tag": "ABX9TyPoGrz4Bkzc9kI1IhUXJsFI",
      "include_colab_link": true
    },
    "kernelspec": {
      "name": "python3",
      "display_name": "Python 3"
    },
    "language_info": {
      "name": "python"
    },
    "accelerator": "GPU"
  },
  "cells": [
    {
      "cell_type": "markdown",
      "metadata": {
        "id": "view-in-github",
        "colab_type": "text"
      },
      "source": [
        "<a href=\"https://colab.research.google.com/github/Meddebma/pyradiomics/blob/master/Projekt2.ipynb\" target=\"_parent\"><img src=\"https://colab.research.google.com/assets/colab-badge.svg\" alt=\"Open In Colab\"/></a>"
      ]
    },
    {
      "cell_type": "markdown",
      "metadata": {
        "id": "udLmhGGd-b8L"
      },
      "source": [
        "**Setup environment**"
      ]
    },
    {
      "cell_type": "code",
      "metadata": {
        "id": "YPSd10aH-eKd"
      },
      "source": [
        "%pip install -q \"monai-weekly[itk, pillow]\""
      ],
      "execution_count": 11,
      "outputs": []
    },
    {
      "cell_type": "markdown",
      "metadata": {
        "id": "HbOGv71w-zFk"
      },
      "source": [
        "**Setup imports**"
      ]
    },
    {
      "cell_type": "code",
      "metadata": {
        "colab": {
          "base_uri": "https://localhost:8080/"
        },
        "id": "8JIt-TFM-3ZL",
        "outputId": "2a7901c0-f0fe-4fe2-8428-45318fcbcec8"
      },
      "source": [
        "# Copyright 2020 MONAI Consortium\n",
        "# Licensed under the Apache License, Version 2.0 (the \"License\");\n",
        "# you may not use this file except in compliance with the License.\n",
        "# You may obtain a copy of the License at\n",
        "#     http://www.apache.org/licenses/LICENSE-2.0\n",
        "# Unless required by applicable law or agreed to in writing, software\n",
        "# distributed under the License is distributed on an \"AS IS\" BASIS,\n",
        "# WITHOUT WARRANTIES OR CONDITIONS OF ANY KIND, either express or implied.\n",
        "# See the License for the specific language governing permissions and\n",
        "# limitations under the License.\n",
        "\n",
        "import logging\n",
        "import os\n",
        "import sys\n",
        "import tempfile\n",
        "import shutil\n",
        "\n",
        "import matplotlib.pyplot as plt\n",
        "import torch\n",
        "from torch.utils.tensorboard import SummaryWriter\n",
        "import numpy as np\n",
        "\n",
        "import monai\n",
        "from monai.networks.nets import DenseNet121, Classifier\n",
        "from monai.apps import download_and_extract\n",
        "from monai.config import print_config\n",
        "from monai.utils import first\n",
        "from monai.data import CacheDataset, DataLoader, ImageDataset, ITKReader, PILReader, Dataset\n",
        "from torch.utils.data import DataLoader \n",
        "from monai.transforms import Transform\n",
        "from monai.transforms import (\n",
        "    AddChannel,\n",
        "    Compose,\n",
        "    LoadImage,\n",
        "    RandRotate90,\n",
        "    Resize,\n",
        "    Orientation,\n",
        "    ScaleIntensity,\n",
        "    ToTensor,\n",
        "    Randomizable,\n",
        "    LoadImaged,\n",
        "    ToTensord,\n",
        ")\n",
        "import numpy as np\n",
        "import statsmodels.formula.api as smf\n",
        "import statsmodels.api as sm\n",
        "import pandas as pd\n",
        "import seaborn as sns \n",
        "from glob import glob\n",
        "import logging\n",
        "from abc import ABC, abstractmethod\n",
        "from typing import Any, Callable, Dict, Generator, Hashable, Iterable, List, Optional, Tuple\n",
        "\n",
        "import numpy as np\n",
        "import torch\n",
        "\n",
        "import numpy as np\n",
        "from monai.transforms import Transform, AddChannel, AsChannelFirst\n",
        "\n",
        "\n",
        "logging.basicConfig(stream=sys.stdout, level=logging.INFO)\n",
        "print_config()"
      ],
      "execution_count": 12,
      "outputs": [
        {
          "output_type": "stream",
          "text": [
            "MONAI version: 0.6.dev2121\n",
            "Numpy version: 1.19.5\n",
            "Pytorch version: 1.8.1+cu101\n",
            "MONAI flags: HAS_EXT = False, USE_COMPILED = False\n",
            "MONAI rev id: ffba47d55439eb803b94d12ea75f460875c5af95\n",
            "\n",
            "Optional dependencies:\n",
            "Pytorch Ignite version: NOT INSTALLED or UNKNOWN VERSION.\n",
            "Nibabel version: 3.0.2\n",
            "scikit-image version: 0.16.2\n",
            "Pillow version: 7.1.2\n",
            "Tensorboard version: 2.5.0\n",
            "gdown version: 3.6.4\n",
            "TorchVision version: 0.9.1+cu101\n",
            "ITK version: 5.1.2\n",
            "tqdm version: 4.41.1\n",
            "lmdb version: 0.99\n",
            "psutil version: 5.4.8\n",
            "\n",
            "For details about installing the optional dependencies, please visit:\n",
            "    https://docs.monai.io/en/latest/installation.html#installing-the-recommended-dependencies\n",
            "\n"
          ],
          "name": "stdout"
        }
      ]
    },
    {
      "cell_type": "markdown",
      "metadata": {
        "id": "BvUL9l6t_tDM"
      },
      "source": [
        "**Data Direction**"
      ]
    },
    {
      "cell_type": "code",
      "metadata": {
        "id": "mHeS8Rt6_zWD"
      },
      "source": [
        "data_dir= \"/content/drive/My Drive/Task09_Spleen\""
      ],
      "execution_count": 13,
      "outputs": []
    },
    {
      "cell_type": "code",
      "metadata": {
        "id": "O1S2v-B-AITM"
      },
      "source": [
        "labels_all = pd.read_excel (r'/content/drive/MyDrive/Task09_Spleen/labels.xlsx')\n"
      ],
      "execution_count": 14,
      "outputs": []
    },
    {
      "cell_type": "code",
      "metadata": {
        "id": "GyjyR96rS0Bl"
      },
      "source": [
        "images = sorted(glob(os.path.join(data_dir, \"Projekt2t\", \"*.nii.gz\")))\n",
        "#labels= labels_all[\"label\"]\n",
        "labels= np.array([1, 1, 0, 0, 0, 0, 0, 0, 0, 0, 0, 1, 1, 1, 1, 1], dtype=np.int64)\n",
        "\n"
      ],
      "execution_count": 15,
      "outputs": []
    },
    {
      "cell_type": "code",
      "metadata": {
        "colab": {
          "base_uri": "https://localhost:8080/"
        },
        "id": "xWuuYwtGuUiq",
        "outputId": "2c262742-e214-40f4-b411-2201839fda8a"
      },
      "source": [
        "labels"
      ],
      "execution_count": 16,
      "outputs": [
        {
          "output_type": "execute_result",
          "data": {
            "text/plain": [
              "array([1, 1, 0, 0, 0, 0, 0, 0, 0, 0, 0, 1, 1, 1, 1, 1])"
            ]
          },
          "metadata": {
            "tags": []
          },
          "execution_count": 16
        }
      ]
    },
    {
      "cell_type": "code",
      "metadata": {
        "id": "ul6o7jMXc-Wm",
        "colab": {
          "base_uri": "https://localhost:8080/"
        },
        "outputId": "97aead9c-6083-4900-ef7b-b648e3e0c9a4"
      },
      "source": [
        "class ChannelFirstOrAdd(Transform):\n",
        "    def __init__(self):\n",
        "        self.channel_first = AsChannelFirst()\n",
        "        self.add_channel = AddChannel()\n",
        "\n",
        "    def __call__(self, im):\n",
        "        ndims = im.ndim\n",
        "        if ndims == 4:\n",
        "            return self.channel_first(im)\n",
        "        elif ndims == 3:\n",
        "            return self.add_channel(im)\n",
        "        else:\n",
        "            raise RuntimeError\n",
        "\n",
        "t = ChannelFirstOrAdd()\n",
        "already_has_channel = np.zeros((3, 4, 5, 2))\n",
        "print(t(already_has_channel).shape)\n",
        "\n",
        "needs_channel_added = np.zeros((3, 4, 5))\n",
        "print(t(needs_channel_added).shape)\n",
        "\n",
        "train_transforms = Compose([ScaleIntensity(), ChannelFirstOrAdd(), Resize((96, 96, 96),mode=\"nearest\"), ToTensor()])\n",
        "val_transforms = Compose([ScaleIntensity(), ChannelFirstOrAdd(), Resize((96, 96, 96),mode=\"nearest\"), ToTensor()])\n",
        "\n",
        "    # Define image dataset, data loader\n",
        "check_ds = ImageDataset(image_files=images, labels=labels, transform=train_transforms)\n",
        "check_loader = DataLoader(check_ds, batch_size=2, num_workers=2)\n",
        "im, label = monai.utils.misc.first(check_loader)\n",
        "print(type(im), im.shape, label)\n",
        "print(len(im.shape))\n"
      ],
      "execution_count": 17,
      "outputs": [
        {
          "output_type": "stream",
          "text": [
            "(2, 3, 4, 5)\n",
            "(1, 3, 4, 5)\n",
            "<class 'torch.Tensor'> torch.Size([2, 1, 96, 96, 96]) tensor([1, 1])\n",
            "5\n"
          ],
          "name": "stdout"
        }
      ]
    },
    {
      "cell_type": "code",
      "metadata": {
        "id": "no-1iFtFgcOf"
      },
      "source": [
        "train_ds = ImageDataset(image_files=images[:12], labels=labels[:12], transform=train_transforms)\n",
        "train_loader = DataLoader(train_ds, batch_size=2, shuffle=True, num_workers=2)\n",
        "\n",
        "# create a validation data loader\n",
        "val_ds = ImageDataset(image_files=images[-12:], labels=labels[-12:], transform=val_transforms)\n",
        "val_loader = DataLoader(val_ds, batch_size=2, num_workers=2)\n",
        "\n",
        "# Create DenseNet121, CrossEntropyLoss and Adam optimizer\n",
        "device = torch.device(\"cuda\")\n",
        "model = monai.networks.nets.DenseNet121(spatial_dims=3, in_channels=1, out_channels=2).to(device)\n",
        "loss_function = torch.nn.CrossEntropyLoss()\n",
        "optimizer = torch.optim.Adam(model.parameters(), 1e-5)"
      ],
      "execution_count": 18,
      "outputs": []
    },
    {
      "cell_type": "code",
      "metadata": {
        "colab": {
          "base_uri": "https://localhost:8080/",
          "height": 746
        },
        "id": "Fl3O9A11Zmpm",
        "outputId": "6d5db5d3-a38c-4c99-fcd1-acd6f1cf561d"
      },
      "source": [
        "# start a typical PyTorch training\n",
        "val_interval = 2\n",
        "best_metric = -1\n",
        "best_metric_epoch = -1\n",
        "epoch_loss_values = []\n",
        "metric_values = []\n",
        "writer = SummaryWriter()\n",
        "max_epochs = 5\n",
        "for epoch in range(max_epochs):\n",
        "    print(\"-\" * 10)\n",
        "    print(f\"epoch {epoch + 1}/{max_epochs}\")\n",
        "    model.train()\n",
        "    epoch_loss = 0\n",
        "    step = 0\n",
        "    for batch_data in train_loader:\n",
        "        step += 1\n",
        "        inputs, labels = batch_data[0].to(device), batch_data[1].to(device)\n",
        "        optimizer.zero_grad()\n",
        "        outputs = model(inputs)\n",
        "        loss = loss_function(outputs, labels)\n",
        "        loss.backward()\n",
        "        optimizer.step()\n",
        "        epoch_loss += loss.item()\n",
        "        epoch_len = len(train_ds) // train_loader.batch_size\n",
        "        print(f\"{step}/{epoch_len}, train_loss: {loss.item():.4f}\")\n",
        "        writer.add_scalar(\"train_loss\", loss.item(), epoch_len * epoch + step)\n",
        "    epoch_loss /= step\n",
        "    epoch_loss_values.append(epoch_loss)\n",
        "    print(f\"epoch {epoch + 1} average loss: {epoch_loss:.4f}\")\n",
        "\n",
        "    if (epoch + 1) % val_interval == 0:\n",
        "        model.eval()\n",
        "        with torch.no_grad():\n",
        "            num_correct = 0.0\n",
        "            metric_count = 0\n",
        "            for val_data in val_loader:\n",
        "                val_images, val_labels = val_data[0].to(\n",
        "                    device), val_data[1].to(device)\n",
        "                val_outputs = model(val_images)\n",
        "                value = torch.eq(val_outputs.argmax(dim=1), val_labels)\n",
        "                metric_count += len(value)\n",
        "                num_correct += value.sum().item()\n",
        "            metric = num_correct / metric_count\n",
        "            metric_values.append(metric)\n",
        "            if metric > best_metric:\n",
        "                best_metric = metric\n",
        "                best_metric_epoch = epoch + 1\n",
        "                torch.save(model.state_dict(),\n",
        "                           \"best_metric_model_classification3d_array.pth\")\n",
        "                print(\"saved new best metric model\")\n",
        "            print(\n",
        "                \"current epoch: {} current accuracy: {:.4f} \"\n",
        "                \"best accuracy: {:.4f} at epoch {}\".format(\n",
        "                    epoch + 1, metric, best_metric, best_metric_epoch\n",
        "                )\n",
        "            )\n",
        "            writer.add_scalar(\"val_accuracy\", metric, epoch + 1)\n",
        "print(\n",
        "    f\"train completed, best_metric: {best_metric:.4f} \"\n",
        "    f\"at epoch: {best_metric_epoch}\")\n",
        "writer.close()"
      ],
      "execution_count": 19,
      "outputs": [
        {
          "output_type": "stream",
          "text": [
            "----------\n",
            "epoch 1/5\n",
            "1/6, train_loss: 0.7042\n",
            "2/6, train_loss: 0.5178\n"
          ],
          "name": "stdout"
        },
        {
          "output_type": "stream",
          "text": [
            "Modifying image pixdim from [0.78125 0.78125 5.      1.     ] to [  0.78125     0.78125     5.        394.4946134]\n",
            "Modifying image pixdim from [0.728516 0.728516 5.       1.      ] to [  0.72851598   0.72851598   5.         358.76446171]\n"
          ],
          "name": "stderr"
        },
        {
          "output_type": "stream",
          "text": [
            "3/6, train_loss: 0.6970\n"
          ],
          "name": "stdout"
        },
        {
          "output_type": "error",
          "ename": "RuntimeError",
          "evalue": "ignored",
          "traceback": [
            "\u001b[0;31m---------------------------------------------------------------------------\u001b[0m",
            "\u001b[0;31mRuntimeError\u001b[0m                              Traceback (most recent call last)",
            "\u001b[0;32m<ipython-input-19-5cc6e1054bee>\u001b[0m in \u001b[0;36m<module>\u001b[0;34m()\u001b[0m\n\u001b[1;32m     13\u001b[0m     \u001b[0mepoch_loss\u001b[0m \u001b[0;34m=\u001b[0m \u001b[0;36m0\u001b[0m\u001b[0;34m\u001b[0m\u001b[0;34m\u001b[0m\u001b[0m\n\u001b[1;32m     14\u001b[0m     \u001b[0mstep\u001b[0m \u001b[0;34m=\u001b[0m \u001b[0;36m0\u001b[0m\u001b[0;34m\u001b[0m\u001b[0;34m\u001b[0m\u001b[0m\n\u001b[0;32m---> 15\u001b[0;31m     \u001b[0;32mfor\u001b[0m \u001b[0mbatch_data\u001b[0m \u001b[0;32min\u001b[0m \u001b[0mtrain_loader\u001b[0m\u001b[0;34m:\u001b[0m\u001b[0;34m\u001b[0m\u001b[0;34m\u001b[0m\u001b[0m\n\u001b[0m\u001b[1;32m     16\u001b[0m         \u001b[0mstep\u001b[0m \u001b[0;34m+=\u001b[0m \u001b[0;36m1\u001b[0m\u001b[0;34m\u001b[0m\u001b[0;34m\u001b[0m\u001b[0m\n\u001b[1;32m     17\u001b[0m         \u001b[0minputs\u001b[0m\u001b[0;34m,\u001b[0m \u001b[0mlabels\u001b[0m \u001b[0;34m=\u001b[0m \u001b[0mbatch_data\u001b[0m\u001b[0;34m[\u001b[0m\u001b[0;36m0\u001b[0m\u001b[0;34m]\u001b[0m\u001b[0;34m.\u001b[0m\u001b[0mto\u001b[0m\u001b[0;34m(\u001b[0m\u001b[0mdevice\u001b[0m\u001b[0;34m)\u001b[0m\u001b[0;34m,\u001b[0m \u001b[0mbatch_data\u001b[0m\u001b[0;34m[\u001b[0m\u001b[0;36m1\u001b[0m\u001b[0;34m]\u001b[0m\u001b[0;34m.\u001b[0m\u001b[0mto\u001b[0m\u001b[0;34m(\u001b[0m\u001b[0mdevice\u001b[0m\u001b[0;34m)\u001b[0m\u001b[0;34m\u001b[0m\u001b[0;34m\u001b[0m\u001b[0m\n",
            "\u001b[0;32m/usr/local/lib/python3.7/dist-packages/torch/utils/data/dataloader.py\u001b[0m in \u001b[0;36m__next__\u001b[0;34m(self)\u001b[0m\n\u001b[1;32m    515\u001b[0m             \u001b[0;32mif\u001b[0m \u001b[0mself\u001b[0m\u001b[0;34m.\u001b[0m\u001b[0m_sampler_iter\u001b[0m \u001b[0;32mis\u001b[0m \u001b[0;32mNone\u001b[0m\u001b[0;34m:\u001b[0m\u001b[0;34m\u001b[0m\u001b[0;34m\u001b[0m\u001b[0m\n\u001b[1;32m    516\u001b[0m                 \u001b[0mself\u001b[0m\u001b[0;34m.\u001b[0m\u001b[0m_reset\u001b[0m\u001b[0;34m(\u001b[0m\u001b[0;34m)\u001b[0m\u001b[0;34m\u001b[0m\u001b[0;34m\u001b[0m\u001b[0m\n\u001b[0;32m--> 517\u001b[0;31m             \u001b[0mdata\u001b[0m \u001b[0;34m=\u001b[0m \u001b[0mself\u001b[0m\u001b[0;34m.\u001b[0m\u001b[0m_next_data\u001b[0m\u001b[0;34m(\u001b[0m\u001b[0;34m)\u001b[0m\u001b[0;34m\u001b[0m\u001b[0;34m\u001b[0m\u001b[0m\n\u001b[0m\u001b[1;32m    518\u001b[0m             \u001b[0mself\u001b[0m\u001b[0;34m.\u001b[0m\u001b[0m_num_yielded\u001b[0m \u001b[0;34m+=\u001b[0m \u001b[0;36m1\u001b[0m\u001b[0;34m\u001b[0m\u001b[0;34m\u001b[0m\u001b[0m\n\u001b[1;32m    519\u001b[0m             \u001b[0;32mif\u001b[0m \u001b[0mself\u001b[0m\u001b[0;34m.\u001b[0m\u001b[0m_dataset_kind\u001b[0m \u001b[0;34m==\u001b[0m \u001b[0m_DatasetKind\u001b[0m\u001b[0;34m.\u001b[0m\u001b[0mIterable\u001b[0m \u001b[0;32mand\u001b[0m\u001b[0;31m \u001b[0m\u001b[0;31m\\\u001b[0m\u001b[0;34m\u001b[0m\u001b[0;34m\u001b[0m\u001b[0m\n",
            "\u001b[0;32m/usr/local/lib/python3.7/dist-packages/torch/utils/data/dataloader.py\u001b[0m in \u001b[0;36m_next_data\u001b[0;34m(self)\u001b[0m\n\u001b[1;32m   1197\u001b[0m             \u001b[0;32melse\u001b[0m\u001b[0;34m:\u001b[0m\u001b[0;34m\u001b[0m\u001b[0;34m\u001b[0m\u001b[0m\n\u001b[1;32m   1198\u001b[0m                 \u001b[0;32mdel\u001b[0m \u001b[0mself\u001b[0m\u001b[0;34m.\u001b[0m\u001b[0m_task_info\u001b[0m\u001b[0;34m[\u001b[0m\u001b[0midx\u001b[0m\u001b[0;34m]\u001b[0m\u001b[0;34m\u001b[0m\u001b[0;34m\u001b[0m\u001b[0m\n\u001b[0;32m-> 1199\u001b[0;31m                 \u001b[0;32mreturn\u001b[0m \u001b[0mself\u001b[0m\u001b[0;34m.\u001b[0m\u001b[0m_process_data\u001b[0m\u001b[0;34m(\u001b[0m\u001b[0mdata\u001b[0m\u001b[0;34m)\u001b[0m\u001b[0;34m\u001b[0m\u001b[0;34m\u001b[0m\u001b[0m\n\u001b[0m\u001b[1;32m   1200\u001b[0m \u001b[0;34m\u001b[0m\u001b[0m\n\u001b[1;32m   1201\u001b[0m     \u001b[0;32mdef\u001b[0m \u001b[0m_try_put_index\u001b[0m\u001b[0;34m(\u001b[0m\u001b[0mself\u001b[0m\u001b[0;34m)\u001b[0m\u001b[0;34m:\u001b[0m\u001b[0;34m\u001b[0m\u001b[0;34m\u001b[0m\u001b[0m\n",
            "\u001b[0;32m/usr/local/lib/python3.7/dist-packages/torch/utils/data/dataloader.py\u001b[0m in \u001b[0;36m_process_data\u001b[0;34m(self, data)\u001b[0m\n\u001b[1;32m   1223\u001b[0m         \u001b[0mself\u001b[0m\u001b[0;34m.\u001b[0m\u001b[0m_try_put_index\u001b[0m\u001b[0;34m(\u001b[0m\u001b[0;34m)\u001b[0m\u001b[0;34m\u001b[0m\u001b[0;34m\u001b[0m\u001b[0m\n\u001b[1;32m   1224\u001b[0m         \u001b[0;32mif\u001b[0m \u001b[0misinstance\u001b[0m\u001b[0;34m(\u001b[0m\u001b[0mdata\u001b[0m\u001b[0;34m,\u001b[0m \u001b[0mExceptionWrapper\u001b[0m\u001b[0;34m)\u001b[0m\u001b[0;34m:\u001b[0m\u001b[0;34m\u001b[0m\u001b[0;34m\u001b[0m\u001b[0m\n\u001b[0;32m-> 1225\u001b[0;31m             \u001b[0mdata\u001b[0m\u001b[0;34m.\u001b[0m\u001b[0mreraise\u001b[0m\u001b[0;34m(\u001b[0m\u001b[0;34m)\u001b[0m\u001b[0;34m\u001b[0m\u001b[0;34m\u001b[0m\u001b[0m\n\u001b[0m\u001b[1;32m   1226\u001b[0m         \u001b[0;32mreturn\u001b[0m \u001b[0mdata\u001b[0m\u001b[0;34m\u001b[0m\u001b[0;34m\u001b[0m\u001b[0m\n\u001b[1;32m   1227\u001b[0m \u001b[0;34m\u001b[0m\u001b[0m\n",
            "\u001b[0;32m/usr/local/lib/python3.7/dist-packages/torch/_utils.py\u001b[0m in \u001b[0;36mreraise\u001b[0;34m(self)\u001b[0m\n\u001b[1;32m    427\u001b[0m             \u001b[0;31m# have message field\u001b[0m\u001b[0;34m\u001b[0m\u001b[0;34m\u001b[0m\u001b[0;34m\u001b[0m\u001b[0m\n\u001b[1;32m    428\u001b[0m             \u001b[0;32mraise\u001b[0m \u001b[0mself\u001b[0m\u001b[0;34m.\u001b[0m\u001b[0mexc_type\u001b[0m\u001b[0;34m(\u001b[0m\u001b[0mmessage\u001b[0m\u001b[0;34m=\u001b[0m\u001b[0mmsg\u001b[0m\u001b[0;34m)\u001b[0m\u001b[0;34m\u001b[0m\u001b[0;34m\u001b[0m\u001b[0m\n\u001b[0;32m--> 429\u001b[0;31m         \u001b[0;32mraise\u001b[0m \u001b[0mself\u001b[0m\u001b[0;34m.\u001b[0m\u001b[0mexc_type\u001b[0m\u001b[0;34m(\u001b[0m\u001b[0mmsg\u001b[0m\u001b[0;34m)\u001b[0m\u001b[0;34m\u001b[0m\u001b[0;34m\u001b[0m\u001b[0m\n\u001b[0m\u001b[1;32m    430\u001b[0m \u001b[0;34m\u001b[0m\u001b[0m\n\u001b[1;32m    431\u001b[0m \u001b[0;34m\u001b[0m\u001b[0m\n",
            "\u001b[0;31mRuntimeError\u001b[0m: Caught RuntimeError in DataLoader worker process 1.\nOriginal Traceback (most recent call last):\n  File \"/usr/local/lib/python3.7/dist-packages/torch/utils/data/_utils/worker.py\", line 202, in _worker_loop\n    data = fetcher.fetch(index)\n  File \"/usr/local/lib/python3.7/dist-packages/torch/utils/data/_utils/fetch.py\", line 47, in fetch\n    return self.collate_fn(data)\n  File \"/usr/local/lib/python3.7/dist-packages/torch/utils/data/_utils/collate.py\", line 83, in default_collate\n    return [default_collate(samples) for samples in transposed]\n  File \"/usr/local/lib/python3.7/dist-packages/torch/utils/data/_utils/collate.py\", line 83, in <listcomp>\n    return [default_collate(samples) for samples in transposed]\n  File \"/usr/local/lib/python3.7/dist-packages/torch/utils/data/_utils/collate.py\", line 55, in default_collate\n    return torch.stack(batch, 0, out=out)\nRuntimeError: stack expects each tensor to be equal size, but got [1, 96, 96, 96] at entry 0 and [2, 96, 96, 96] at entry 1\n"
          ]
        }
      ]
    },
    {
      "cell_type": "code",
      "metadata": {
        "id": "Nm0LXsvlgp_N"
      },
      "source": [
        "test_ds = ImageDataset(\n",
        "    image_files=images, labels=labels, transform=val_transforms)\n",
        "test_loader = DataLoader(val_ds, batch_size=1, num_workers=2)\n",
        "itera = iter(test_loader)\n",
        "\n",
        "\n",
        "def get_next_im():\n",
        "    test_data = next(itera)\n",
        "    return test_data[0].to(device), test_data[1].unsqueeze(0).to(device)\n",
        "\n",
        "\n",
        "def plot_occlusion_heatmap(im, heatmap):\n",
        "    plt.subplots(1, 2)\n",
        "    plt.subplot(1, 2, 1)\n",
        "    plt.imshow(np.squeeze(im.cpu()))\n",
        "    plt.colorbar()\n",
        "    plt.subplot(1, 2, 2)\n",
        "    plt.imshow(heatmap)\n",
        "    plt.colorbar()\n",
        "    plt.show()"
      ],
      "execution_count": null,
      "outputs": []
    },
    {
      "cell_type": "code",
      "metadata": {
        "colab": {
          "base_uri": "https://localhost:8080/",
          "height": 824
        },
        "id": "vfFYizJOg1TG",
        "outputId": "e9254d9a-982b-4c34-9fca-16f7382f3481"
      },
      "source": [
        "# Get a random image and its corresponding label\n",
        "img, label = get_next_im()\n",
        "\n",
        "# Get the occlusion sensitivity map\n",
        "occ_sens = monai.visualize.OcclusionSensitivity(\n",
        "    nn_module=model, mask_size=12, n_batch=10, stride=12)\n",
        "# Only get a single slice to save time.\n",
        "# For the other dimensions (channel, width, height), use\n",
        "# -1 to use 0 and img.shape[x]-1 for min and max, respectively\n",
        "depth_slice = img.shape[2] // 2\n",
        "occ_sens_b_box = [-1, -1, depth_slice, depth_slice, -1, -1, -1, -1]\n",
        "\n",
        "occ_result, _ = occ_sens(x=img, b_box=occ_sens_b_box)\n",
        "occ_result = occ_result[..., label.item()]\n",
        "\n",
        "fig, axes = plt.subplots(1, 2, figsize=(25, 15), facecolor='white')\n",
        "\n",
        "for i, im in enumerate([img[:, :, depth_slice, ...], occ_result]):\n",
        "    cmap = 'gray' if i == 0 else 'jet'\n",
        "    ax = axes[i]\n",
        "    im_show = ax.imshow(np.squeeze(im[0][0].detach().cpu()), cmap=cmap)\n",
        "    ax.axis('off')\n",
        "    fig.colorbar(im_show, ax=ax)"
      ],
      "execution_count": null,
      "outputs": [
        {
          "output_type": "stream",
          "text": [
            "Computing occlusion sensitivity: 100%|██████████| 64/64 [00:00<00:00, 77.12it/s]\n"
          ],
          "name": "stderr"
        },
        {
          "output_type": "display_data",
          "data": {
            "image/png": "[encoded data removed]",
            "text/plain": [
              "<Figure size 1800x1080 with 4 Axes>"
            ]
          },
          "metadata": {
            "tags": []
          }
        }
      ]
    }
  ]
}